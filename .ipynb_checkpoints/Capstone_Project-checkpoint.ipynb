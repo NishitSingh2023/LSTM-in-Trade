{
 "cells": [
  {
   "cell_type": "markdown",
   "metadata": {
    "colab_type": "text",
    "id": "view-in-github"
   },
   "source": [
    "<a href=\"https://colab.research.google.com/github/NishitSingh2023/LSTM-in-Trade/blob/master/Capstone_Project.ipynb\" target=\"_parent\"><img src=\"https://colab.research.google.com/assets/colab-badge.svg\" alt=\"Open In Colab\"/></a>"
   ]
  },
  {
   "cell_type": "code",
   "execution_count": 2,
   "metadata": {
    "colab": {
     "base_uri": "https://localhost:8080/",
     "height": 326
    },
    "colab_type": "code",
    "id": "QAGf3ljAcjmU",
    "outputId": "040d4e11-4442-4f23-da8f-d388293b76a8"
   },
   "outputs": [
    {
     "name": "stdout",
     "output_type": "stream",
     "text": [
      "Go to this URL in a browser: https://accounts.google.com/o/oauth2/auth?client_id=947318989803-6bn6qk8qdgf4n4g3pfee6491hc0brc4i.apps.googleusercontent.com&redirect_uri=urn%3aietf%3awg%3aoauth%3a2.0%3aoob&response_type=code&scope=email%20https%3a%2f%2fwww.googleapis.com%2fauth%2fdocs.test%20https%3a%2f%2fwww.googleapis.com%2fauth%2fdrive%20https%3a%2f%2fwww.googleapis.com%2fauth%2fdrive.photos.readonly%20https%3a%2f%2fwww.googleapis.com%2fauth%2fpeopleapi.readonly\n",
      "\n",
      "Enter your authorization code:\n",
      "··········\n",
      "Mounted at /content/gdrive\n",
      "/content/gdrive/My Drive/Project/LSTM-in-Trade\n",
      "remote: Enumerating objects: 5, done.\u001b[K\n",
      "remote: Counting objects: 100% (5/5), done.\u001b[K\n",
      "remote: Compressing objects: 100% (3/3), done.\u001b[K\n",
      "remote: Total 3 (delta 1), reused 0 (delta 0), pack-reused 0\u001b[K\n",
      "Unpacking objects: 100% (3/3), done.\n",
      "From https://github.com/NishitSingh2023/LSTM-in-Trade\n",
      "   63a9394..f366a46  master     -> origin/master\n",
      "Updating 63a9394..f366a46\n",
      "Fast-forward\n",
      " Capstone_Project.ipynb | 1063 \u001b[32m+++++++++++++++++++++++++++++++\u001b[m\u001b[31m-----------------\u001b[m\n",
      " 1 file changed, 691 insertions(+), 372 deletions(-)\n"
     ]
    }
   ],
   "source": [
    "from google.colab import drive\n",
    "drive.mount('/content/gdrive')\n",
    "\n",
    "%cd gdrive/My Drive/Project/LSTM-in-Trade\n",
    "\n",
    "! git pull"
   ]
  },
  {
   "cell_type": "code",
   "execution_count": 1,
   "metadata": {
    "colab": {
     "base_uri": "https://localhost:8080/",
     "height": 80
    },
    "colab_type": "code",
    "id": "u-9QwZVNL5-V",
    "outputId": "98792141-353d-43f9-996f-feb6906d1d9c"
   },
   "outputs": [
    {
     "name": "stderr",
     "output_type": "stream",
     "text": [
      "Using TensorFlow backend.\n"
     ]
    }
   ],
   "source": [
    "import numpy as np\n",
    "import pandas as pd\n",
    "import datetime as dt\n",
    "import os\n",
    "import tensorflow as tf\n",
    "from sklearn.preprocessing import MinMaxScaler\n",
    "from subprocess import check_output\n",
    "from keras.layers.core import Dense, Activation, Dropout\n",
    "from keras.layers.recurrent import LSTM\n",
    "from keras.models import Sequential\n",
    "from sklearn.model_selection import  train_test_split\n",
    "import time\n",
    "import matplotlib.pyplot as plt\n",
    "from numpy import newaxis"
   ]
  },
  {
   "cell_type": "code",
   "execution_count": 28,
   "metadata": {},
   "outputs": [
    {
     "name": "stdout",
     "output_type": "stream",
     "text": [
      "                                    Company Name      Symbol\n",
      "0     Adani Ports and Special Economic Zone Ltd.  ADANIPORTS\n",
      "1                              Asian Paints Ltd.  ASIANPAINT\n",
      "2                                 Axis Bank Ltd.    AXISBANK\n",
      "3                                Bajaj Auto Ltd.  BAJAJ-AUTO\n",
      "4                             Bajaj Finance Ltd.  BAJFINANCE\n",
      "5                             Bajaj Finserv Ltd.  BAJAJFINSV\n",
      "6              Bharat Petroleum Corporation Ltd.        BPCL\n",
      "7                             Bharti Airtel Ltd.  BHARTIARTL\n",
      "8                           Bharti Infratel Ltd.    INFRATEL\n",
      "9                      Britannia Industries Ltd.   BRITANNIA\n",
      "10                                    Cipla Ltd.       CIPLA\n",
      "11                               Coal India Ltd.   COALINDIA\n",
      "12                 Dr. Reddy's Laboratories Ltd.     DRREDDY\n",
      "13                            Eicher Motors Ltd.   EICHERMOT\n",
      "14                             GAIL (India) Ltd.        GAIL\n",
      "15                        Grasim Industries Ltd.      GRASIM\n",
      "16                         HCL Technologies Ltd.     HCLTECH\n",
      "17                                HDFC Bank Ltd.    HDFCBANK\n",
      "18                            Hero MotoCorp Ltd.  HEROMOTOCO\n",
      "19                      Hindalco Industries Ltd.    HINDALCO\n",
      "20                       Hindustan Unilever Ltd.  HINDUNILVR\n",
      "21  Housing Development Finance Corporation Ltd.        HDFC\n",
      "22                               ICICI Bank Ltd.   ICICIBANK\n",
      "23                                      ITC Ltd.         ITC\n",
      "24                   Indian Oil Corporation Ltd.         IOC\n",
      "25                            IndusInd Bank Ltd.  INDUSINDBK\n",
      "26                                  Infosys Ltd.        INFY\n",
      "27                                JSW Steel Ltd.    JSWSTEEL\n",
      "28                      Kotak Mahindra Bank Ltd.   KOTAKBANK\n",
      "29                          Larsen & Toubro Ltd.          LT\n",
      "30                      Mahindra & Mahindra Ltd.         M&M\n",
      "31                      Maruti Suzuki India Ltd.      MARUTI\n",
      "32                                     NTPC Ltd.        NTPC\n",
      "33                             Nestle India Ltd.   NESTLEIND\n",
      "34            Oil & Natural Gas Corporation Ltd.        ONGC\n",
      "35          Power Grid Corporation of India Ltd.   POWERGRID\n",
      "36                      Reliance Industries Ltd.    RELIANCE\n",
      "37                           State Bank of India        SBIN\n",
      "38            Sun Pharmaceutical Industries Ltd.   SUNPHARMA\n",
      "39                Tata Consultancy Services Ltd.         TCS\n",
      "40                              Tata Motors Ltd.  TATAMOTORS\n",
      "41                               Tata Steel Ltd.   TATASTEEL\n",
      "42                            Tech Mahindra Ltd.       TECHM\n",
      "43                            Titan Company Ltd.       TITAN\n",
      "44                                      UPL Ltd.         UPL\n",
      "45                         UltraTech Cement Ltd.  ULTRACEMCO\n",
      "46                                  Vedanta Ltd.        VEDL\n",
      "47                                    Wipro Ltd.       WIPRO\n",
      "48                                 Yes Bank Ltd.     YESBANK\n",
      "49            Zee Entertainment Enterprises Ltd.        ZEEL\n",
      "Enter the symbol for the stock to be predicted referring from the table below: WIPRO\n"
     ]
    }
   ],
   "source": [
    "c = pd.read_csv('DataSet/0stock_metadata.csv', usecols=['Company Name','Symbol'])\n",
    "print(c)\n",
    "choice=input(\"Enter the symbol for the stock to be predicted referring from the table below: \")"
   ]
  },
  {
   "cell_type": "code",
   "execution_count": 31,
   "metadata": {
    "colab": {},
    "colab_type": "code",
    "id": "osaUyT-GW6E2"
   },
   "outputs": [],
   "source": [
    "df = pd.read_csv('DataSet/'+choice+'.csv', usecols=['Date', 'Symbol', 'Open', 'High', 'Low', 'Close', 'Volume'])"
   ]
  },
  {
   "cell_type": "code",
   "execution_count": 32,
   "metadata": {
    "colab": {
     "base_uri": "https://localhost:8080/",
     "height": 153
    },
    "colab_type": "code",
    "id": "NxkM9Y4WXAah",
    "outputId": "ce4b7bd2-c1e4-47e8-e8d0-3d6a5f0b80c6"
   },
   "outputs": [
    {
     "data": {
      "text/plain": [
       "Date      4977\n",
       "Symbol    4977\n",
       "Open      4977\n",
       "High      4977\n",
       "Low       4977\n",
       "Close     4977\n",
       "Volume    4977\n",
       "dtype: int64"
      ]
     },
     "execution_count": 32,
     "metadata": {},
     "output_type": "execute_result"
    }
   ],
   "source": [
    "df.count()"
   ]
  },
  {
   "cell_type": "code",
   "execution_count": 33,
   "metadata": {
    "colab": {
     "base_uri": "https://localhost:8080/",
     "height": 204
    },
    "colab_type": "code",
    "id": "THRhp0ppcjm8",
    "outputId": "3a5d42c9-dd8e-4e42-c719-9f8fb139be08"
   },
   "outputs": [
    {
     "data": {
      "text/html": [
       "<div>\n",
       "<style scoped>\n",
       "    .dataframe tbody tr th:only-of-type {\n",
       "        vertical-align: middle;\n",
       "    }\n",
       "\n",
       "    .dataframe tbody tr th {\n",
       "        vertical-align: top;\n",
       "    }\n",
       "\n",
       "    .dataframe thead th {\n",
       "        text-align: right;\n",
       "    }\n",
       "</style>\n",
       "<table border=\"1\" class=\"dataframe\">\n",
       "  <thead>\n",
       "    <tr style=\"text-align: right;\">\n",
       "      <th></th>\n",
       "      <th>Date</th>\n",
       "      <th>Symbol</th>\n",
       "      <th>Open</th>\n",
       "      <th>High</th>\n",
       "      <th>Low</th>\n",
       "      <th>Close</th>\n",
       "      <th>Volume</th>\n",
       "    </tr>\n",
       "  </thead>\n",
       "  <tbody>\n",
       "    <tr>\n",
       "      <th>0</th>\n",
       "      <td>2000-01-03</td>\n",
       "      <td>WIPRO</td>\n",
       "      <td>2724.00</td>\n",
       "      <td>2724.20</td>\n",
       "      <td>2724.00</td>\n",
       "      <td>2724.20</td>\n",
       "      <td>1599</td>\n",
       "    </tr>\n",
       "    <tr>\n",
       "      <th>1</th>\n",
       "      <td>2000-01-04</td>\n",
       "      <td>WIPRO</td>\n",
       "      <td>2942.15</td>\n",
       "      <td>2942.15</td>\n",
       "      <td>2942.15</td>\n",
       "      <td>2942.15</td>\n",
       "      <td>4392</td>\n",
       "    </tr>\n",
       "    <tr>\n",
       "      <th>2</th>\n",
       "      <td>2000-01-05</td>\n",
       "      <td>WIPRO</td>\n",
       "      <td>2942.15</td>\n",
       "      <td>3177.55</td>\n",
       "      <td>2715.00</td>\n",
       "      <td>2990.10</td>\n",
       "      <td>132297</td>\n",
       "    </tr>\n",
       "    <tr>\n",
       "      <th>3</th>\n",
       "      <td>2000-01-06</td>\n",
       "      <td>WIPRO</td>\n",
       "      <td>3144.70</td>\n",
       "      <td>3183.00</td>\n",
       "      <td>2790.00</td>\n",
       "      <td>2932.25</td>\n",
       "      <td>72840</td>\n",
       "    </tr>\n",
       "    <tr>\n",
       "      <th>4</th>\n",
       "      <td>2000-01-07</td>\n",
       "      <td>WIPRO</td>\n",
       "      <td>2751.00</td>\n",
       "      <td>2751.00</td>\n",
       "      <td>2697.70</td>\n",
       "      <td>2697.70</td>\n",
       "      <td>10110</td>\n",
       "    </tr>\n",
       "  </tbody>\n",
       "</table>\n",
       "</div>"
      ],
      "text/plain": [
       "         Date Symbol     Open     High      Low    Close  Volume\n",
       "0  2000-01-03  WIPRO  2724.00  2724.20  2724.00  2724.20    1599\n",
       "1  2000-01-04  WIPRO  2942.15  2942.15  2942.15  2942.15    4392\n",
       "2  2000-01-05  WIPRO  2942.15  3177.55  2715.00  2990.10  132297\n",
       "3  2000-01-06  WIPRO  3144.70  3183.00  2790.00  2932.25   72840\n",
       "4  2000-01-07  WIPRO  2751.00  2751.00  2697.70  2697.70   10110"
      ]
     },
     "execution_count": 33,
     "metadata": {},
     "output_type": "execute_result"
    }
   ],
   "source": [
    "df.head()"
   ]
  },
  {
   "cell_type": "code",
   "execution_count": 34,
   "metadata": {},
   "outputs": [
    {
     "data": {
      "image/png": "[encoded data removed]",
      "text/plain": [
       "<Figure size 720x432 with 1 Axes>"
      ]
     },
     "metadata": {
      "needs_background": "light"
     },
     "output_type": "display_data"
    }
   ],
   "source": [
    "df['Date'] = pd.to_datetime(df['Date'])\n",
    "fig = plt.figure(figsize=(10,6))\n",
    "ax1 = fig.add_axes([0, 0, 1, 1])\n",
    "ax1.set_title('High vs Low')\n",
    "ax1.plot(df['Date'],df['High'],color='green')\n",
    "ax1.plot(df['Date'],df['Low'],color='red')\n",
    "plt.show()"
   ]
  },
  {
   "cell_type": "code",
   "execution_count": 0,
   "metadata": {
    "colab": {},
    "colab_type": "code",
    "id": "7iCK1KCVcrDt"
   },
   "outputs": [],
   "source": [
    "data = df.sort_index(ascending=True, axis=0)\n",
    "new_data = pd.DataFrame(index=range(0,len(df)),columns=['Date', 'Close'])\n",
    "for i in range(0,len(data)):\n",
    "    new_data['Date'][i] = data['Date'][i]\n",
    "    new_data['Close'][i] = data['Close'][i]"
   ]
  },
  {
   "cell_type": "code",
   "execution_count": 0,
   "metadata": {
    "colab": {},
    "colab_type": "code",
    "id": "ryQA2OhAH5gF"
   },
   "outputs": [],
   "source": [
    "new_data.index = new_data.Date\n",
    "new_data.drop('Date', axis=1, inplace=True)\n",
    "\n",
    "#creating train and test sets\n",
    "dataset = new_data.values\n",
    "\n",
    "train = dataset[0:4238,:]\n",
    "valid = dataset[4238:,:]"
   ]
  },
  {
   "cell_type": "code",
   "execution_count": 9,
   "metadata": {
    "colab": {
     "base_uri": "https://localhost:8080/",
     "height": 136
    },
    "colab_type": "code",
    "id": "VrD_OeEuH5gI",
    "outputId": "3e2af3f3-5b83-49a7-cf41-73a529cb5e9e"
   },
   "outputs": [
    {
     "name": "stdout",
     "output_type": "stream",
     "text": [
      "[[152.45]\n",
      " [150.8]\n",
      " [156.55]\n",
      " ...\n",
      " [388.45]\n",
      " [392.35]\n",
      " [391.25]]\n"
     ]
    }
   ],
   "source": [
    "print(train)"
   ]
  },
  {
   "cell_type": "code",
   "execution_count": 0,
   "metadata": {
    "colab": {},
    "colab_type": "code",
    "id": "R4LT7ZnXH5gU"
   },
   "outputs": [],
   "source": [
    "scaler = MinMaxScaler(feature_range=(0, 1))\n",
    "scaled_data = scaler.fit_transform(dataset)"
   ]
  },
  {
   "cell_type": "code",
   "execution_count": 0,
   "metadata": {
    "colab": {},
    "colab_type": "code",
    "id": "nz9U73pmH5gX"
   },
   "outputs": [],
   "source": [
    "x_train, y_train = [], []\n",
    "for i in range(60,len(train)):\n",
    "    x_train.append(scaled_data[i-60:i,0])\n",
    "    y_train.append(scaled_data[i,0])\n",
    "x_train, y_train = np.array(x_train), np.array(y_train)\n",
    "\n",
    "x_train = np.reshape(x_train, (x_train.shape[0],x_train.shape[1],1))"
   ]
  },
  {
   "cell_type": "code",
   "execution_count": 12,
   "metadata": {
    "colab": {
     "base_uri": "https://localhost:8080/",
     "height": 850
    },
    "colab_type": "code",
    "id": "4XAVrZjeH5ga",
    "outputId": "95f18ff1-2b19-4843-e0ae-9e4063a1bb86"
   },
   "outputs": [
    {
     "name": "stdout",
     "output_type": "stream",
     "text": [
      "[[[0.0924429 ]\n",
      "  [0.09065263]\n",
      "  [0.09689144]\n",
      "  ...\n",
      "  [0.03987414]\n",
      "  [0.04242391]\n",
      "  [0.0407964 ]]\n",
      "\n",
      " [[0.09065263]\n",
      "  [0.09689144]\n",
      "  [0.10958607]\n",
      "  ...\n",
      "  [0.04242391]\n",
      "  [0.0407964 ]\n",
      "  [0.04481094]]\n",
      "\n",
      " [[0.09689144]\n",
      "  [0.10958607]\n",
      "  [0.11360061]\n",
      "  ...\n",
      "  [0.0407964 ]\n",
      "  [0.04481094]\n",
      "  [0.05197201]]\n",
      "\n",
      " ...\n",
      "\n",
      " [[0.33309825]\n",
      "  [0.34242934]\n",
      "  [0.35143493]\n",
      "  ...\n",
      "  [0.35110942]\n",
      "  [0.33944556]\n",
      "  [0.35279119]]\n",
      "\n",
      " [[0.34242934]\n",
      "  [0.35143493]\n",
      "  [0.35094667]\n",
      "  ...\n",
      "  [0.33944556]\n",
      "  [0.35279119]\n",
      "  [0.3485054 ]]\n",
      "\n",
      " [[0.35143493]\n",
      "  [0.35094667]\n",
      "  [0.35002441]\n",
      "  ...\n",
      "  [0.35279119]\n",
      "  [0.3485054 ]\n",
      "  [0.35273694]]]\n"
     ]
    }
   ],
   "source": [
    "print(x_train)"
   ]
  },
  {
   "cell_type": "code",
   "execution_count": 13,
   "metadata": {
    "colab": {
     "base_uri": "https://localhost:8080/",
     "height": 255
    },
    "colab_type": "code",
    "id": "lryRBNMIH5ge",
    "outputId": "837a6527-1ff0-4583-a227-598d4ff244b2"
   },
   "outputs": [
    {
     "name": "stdout",
     "output_type": "stream",
     "text": [
      "WARNING:tensorflow:From /usr/local/lib/python3.6/dist-packages/keras/backend/tensorflow_backend.py:66: The name tf.get_default_graph is deprecated. Please use tf.compat.v1.get_default_graph instead.\n",
      "\n",
      "WARNING:tensorflow:From /usr/local/lib/python3.6/dist-packages/keras/backend/tensorflow_backend.py:541: The name tf.placeholder is deprecated. Please use tf.compat.v1.placeholder instead.\n",
      "\n",
      "WARNING:tensorflow:From /usr/local/lib/python3.6/dist-packages/keras/backend/tensorflow_backend.py:4432: The name tf.random_uniform is deprecated. Please use tf.random.uniform instead.\n",
      "\n",
      "WARNING:tensorflow:From /usr/local/lib/python3.6/dist-packages/keras/backend/tensorflow_backend.py:148: The name tf.placeholder_with_default is deprecated. Please use tf.compat.v1.placeholder_with_default instead.\n",
      "\n",
      "WARNING:tensorflow:From /usr/local/lib/python3.6/dist-packages/keras/backend/tensorflow_backend.py:3733: calling dropout (from tensorflow.python.ops.nn_ops) with keep_prob is deprecated and will be removed in a future version.\n",
      "Instructions for updating:\n",
      "Please use `rate` instead of `keep_prob`. Rate should be set to `rate = 1 - keep_prob`.\n",
      "WARNING:tensorflow:From /usr/local/lib/python3.6/dist-packages/keras/optimizers.py:793: The name tf.train.Optimizer is deprecated. Please use tf.compat.v1.train.Optimizer instead.\n",
      "\n",
      "compilation time :  0.027664661407470703\n"
     ]
    }
   ],
   "source": [
    "model = Sequential()\n",
    "model.add(LSTM(180, return_sequences=True, input_shape = (x_train.shape[1],1)))\n",
    "model.add(Dropout(0.2))\n",
    "\n",
    "model.add(LSTM(180, return_sequences=True))\n",
    "model.add(Dropout(0.2))\n",
    "\n",
    "model.add(LSTM(150, return_sequences=True))\n",
    "model.add(Dropout(0.2))\n",
    "\n",
    "model.add(LSTM(200, return_sequences=False))\n",
    "model.add(Dropout(0.2))\n",
    "\n",
    "model.add(Dense(units=1))\n",
    "model.add(Activation('relu'))\n",
    "\n",
    "start = time.time()\n",
    "model.compile(loss='mean_squared_error', optimizer='adam')\n",
    "print ('compilation time : ', time.time() - start)"
   ]
  },
  {
   "cell_type": "code",
   "execution_count": 19,
   "metadata": {
    "colab": {
     "base_uri": "https://localhost:8080/",
     "height": 204
    },
    "colab_type": "code",
    "id": "guoV_aWPH5gl",
    "outputId": "bb6193e0-5504-4dd0-acb1-bd7be6e355c7"
   },
   "outputs": [
    {
     "name": "stdout",
     "output_type": "stream",
     "text": [
      "Epoch 1/5\n",
      "4178/4178 [==============================] - 811s 194ms/step - loss: 0.0035\n",
      "Epoch 2/5\n",
      "4178/4178 [==============================] - 816s 195ms/step - loss: 0.0021\n",
      "Epoch 3/5\n",
      "4178/4178 [==============================] - 813s 195ms/step - loss: 0.0016\n",
      "Epoch 4/5\n",
      "4178/4178 [==============================] - 817s 196ms/step - loss: 0.0015\n",
      "Epoch 5/5\n",
      "4178/4178 [==============================] - 824s 197ms/step - loss: 0.0014\n"
     ]
    },
    {
     "data": {
      "text/plain": [
       "<keras.callbacks.History at 0x7efddc795518>"
      ]
     },
     "execution_count": 19,
     "metadata": {
      "tags": []
     },
     "output_type": "execute_result"
    }
   ],
   "source": [
    "model.fit(x_train, y_train, batch_size=1, epochs=5)"
   ]
  },
  {
   "cell_type": "code",
   "execution_count": 0,
   "metadata": {
    "colab": {},
    "colab_type": "code",
    "id": "EBdGthFTH5go"
   },
   "outputs": [],
   "source": [
    "inputs = new_data[len(new_data) - len(valid) - 60:].values\n",
    "inputs = inputs.reshape(-1,1)\n",
    "inputs  = scaler.transform(inputs)\n",
    "\n",
    "X_test = []\n",
    "for i in range(60,inputs.shape[0]):\n",
    "    X_test.append(inputs[i-60:i,0])\n",
    "X_test = np.array(X_test)\n",
    "\n",
    "X_test = np.reshape(X_test, (X_test.shape[0],X_test.shape[1],1))"
   ]
  },
  {
   "cell_type": "code",
   "execution_count": 0,
   "metadata": {
    "colab": {},
    "colab_type": "code",
    "id": "r677BVlDM69v"
   },
   "outputs": [],
   "source": [
    "closing_price = model.predict(X_test)\n",
    "closing_price = scaler.inverse_transform(closing_price)"
   ]
  },
  {
   "cell_type": "code",
   "execution_count": 17,
   "metadata": {
    "colab": {
     "base_uri": "https://localhost:8080/",
     "height": 34
    },
    "colab_type": "code",
    "id": "vcbA8kaPNH0l",
    "outputId": "5be90f8f-f68c-439e-b8b5-8757acfc1080"
   },
   "outputs": [
    {
     "name": "stdout",
     "output_type": "stream",
     "text": [
      "21.554080249128106\n"
     ]
    }
   ],
   "source": [
    "rms=np.sqrt(np.mean(np.power((valid-closing_price),2)))\n",
    "print(rms)"
   ]
  },
  {
   "cell_type": "code",
   "execution_count": 18,
   "metadata": {
    "colab": {
     "base_uri": "https://localhost:8080/",
     "height": 401
    },
    "colab_type": "code",
    "id": "64o4nPqVNPNZ",
    "outputId": "5b5aa5c5-8ded-4c89-835f-66350eff89ef"
   },
   "outputs": [
    {
     "name": "stderr",
     "output_type": "stream",
     "text": [
      "/usr/local/lib/python3.6/dist-packages/ipykernel_launcher.py:6: SettingWithCopyWarning: \n",
      "A value is trying to be set on a copy of a slice from a DataFrame.\n",
      "Try using .loc[row_indexer,col_indexer] = value instead\n",
      "\n",
      "See the caveats in the documentation: http://pandas.pydata.org/pandas-docs/stable/user_guide/indexing.html#returning-a-view-versus-a-copy\n",
      "  \n"
     ]
    },
    {
     "data": {
      "text/plain": [
       "[<matplotlib.lines.Line2D at 0x7efddba72b38>,\n",
       " <matplotlib.lines.Line2D at 0x7efddba72cf8>]"
      ]
     },
     "execution_count": 18,
     "metadata": {
      "tags": []
     },
     "output_type": "execute_result"
    },
    {
     "data": {
      "image/png": "[encoded data removed]",
      "text/plain": [
       "<Figure size 432x288 with 1 Axes>"
      ]
     },
     "metadata": {
      "tags": []
     },
     "output_type": "display_data"
    }
   ],
   "source": [
    "%matplotlib inline\n",
    "\n",
    "train = new_data[:4238]\n",
    "valid = new_data[4238:]\n",
    "\n",
    "valid['Predictions'] = closing_price\n",
    "plt.plot(train['Close'])\n",
    "plt.plot(valid[['Close','Predictions']])"
   ]
  },
  {
   "cell_type": "code",
   "execution_count": 11,
   "metadata": {
    "colab": {},
    "colab_type": "code",
    "id": "vDiONjuONWW0"
   },
   "outputs": [
    {
     "ename": "NameError",
     "evalue": "name 'y' is not defined",
     "output_type": "error",
     "traceback": [
      "\u001b[1;31m---------------------------------------------------------------------------\u001b[0m",
      "\u001b[1;31mNameError\u001b[0m                                 Traceback (most recent call last)",
      "\u001b[1;32m<ipython-input-11-c0973e1c1586>\u001b[0m in \u001b[0;36m<module>\u001b[1;34m\u001b[0m\n\u001b[0;32m      1\u001b[0m \u001b[1;32mfrom\u001b[0m \u001b[0msklearn\u001b[0m\u001b[1;33m.\u001b[0m\u001b[0mmetrics\u001b[0m \u001b[1;32mimport\u001b[0m \u001b[0mr2_score\u001b[0m\u001b[1;33m\u001b[0m\u001b[1;33m\u001b[0m\u001b[0m\n\u001b[0;32m      2\u001b[0m \u001b[1;33m\u001b[0m\u001b[0m\n\u001b[1;32m----> 3\u001b[1;33m \u001b[0mcoefficient_of_dermination\u001b[0m \u001b[1;33m=\u001b[0m \u001b[0mr2_score\u001b[0m\u001b[1;33m(\u001b[0m\u001b[0my\u001b[0m\u001b[1;33m,\u001b[0m \u001b[0mp\u001b[0m\u001b[1;33m(\u001b[0m\u001b[0mx\u001b[0m\u001b[1;33m)\u001b[0m\u001b[1;33m)\u001b[0m\u001b[1;33m\u001b[0m\u001b[1;33m\u001b[0m\u001b[0m\n\u001b[0m",
      "\u001b[1;31mNameError\u001b[0m: name 'y' is not defined"
     ]
    }
   ],
   "source": [
    "from sklearn.metrics import r2_score\n",
    "\n",
    "coefficient_of_dermination = r2_score(y, p(x))"
   ]
  },
  {
   "cell_type": "code",
   "execution_count": null,
   "metadata": {},
   "outputs": [],
   "source": [
    "pred_fig = plt.figure(figsize=(10,6))\n",
    "ax2 = pred_fig.add_axes([0, 0, 1, 1])\n",
    "ax2.set_title('Actual vs Predicted close')\n",
    "ax2.plot(train['Close'], color='blue')\n",
    "ax2.plot(valid[['Close','Predictions']])\n",
    "\n",
    "plt.show()"
   ]
  }
 ],
 "metadata": {
  "colab": {
   "include_colab_link": true,
   "name": "Capstone_Project.ipynb",
   "provenance": []
  },
  "kernelspec": {
   "display_name": "Python 3",
   "language": "python",
   "name": "python3"
  },
  "language_info": {
   "codemirror_mode": {
    "name": "ipython",
    "version": 3
   },
   "file_extension": ".py",
   "mimetype": "text/x-python",
   "name": "python",
   "nbconvert_exporter": "python",
   "pygments_lexer": "ipython3",
   "version": "3.7.1"
  }
 },
 "nbformat": 4,
 "nbformat_minor": 1
}
