{
  "nbformat": 4,
  "nbformat_minor": 0,
  "metadata": {
    "colab": {
      "name": "Capstone_Project.ipynb",
      "provenance": [],
      "include_colab_link": true
    },
    "kernelspec": {
      "display_name": "Python 3",
      "language": "python",
      "name": "python3"
    },
    "language_info": {
      "codemirror_mode": {
        "name": "ipython",
        "version": 3
      },
      "file_extension": ".py",
      "mimetype": "text/x-python",
      "name": "python",
      "nbconvert_exporter": "python",
      "pygments_lexer": "ipython3",
      "version": "3.6.10"
    }
  },
  "cells": [
    {
      "cell_type": "markdown",
      "metadata": {
        "id": "view-in-github",
        "colab_type": "text"
      },
      "source": [
        "<a href=\"https://colab.research.google.com/github/NishitSingh2023/LSTM-in-Trade/blob/master/Capstone_Project.ipynb\" target=\"_parent\"><img src=\"https://colab.research.google.com/assets/colab-badge.svg\" alt=\"Open In Colab\"/></a>"
      ]
    },
    {
      "cell_type": "code",
      "metadata": {
        "colab_type": "code",
        "id": "QAGf3ljAcjmU",
        "outputId": "4bd0751a-7ca0-48e4-c253-cfd0cdf220ca",
        "colab": {
          "base_uri": "https://localhost:8080/",
          "height": 326
        }
      },
      "source": [
        "from google.colab import drive\n",
        "drive.mount('/content/gdrive')\n",
        "\n",
        "%cd gdrive/My Drive/Project/LSTM-in-Trade\n",
        "\n",
        "! git pull"
      ],
      "execution_count": 1,
      "outputs": [
        {
          "output_type": "stream",
          "text": [
            "Go to this URL in a browser: https://accounts.google.com/o/oauth2/auth?client_id=947318989803-6bn6qk8qdgf4n4g3pfee6491hc0brc4i.apps.googleusercontent.com&redirect_uri=urn%3aietf%3awg%3aoauth%3a2.0%3aoob&response_type=code&scope=email%20https%3a%2f%2fwww.googleapis.com%2fauth%2fdocs.test%20https%3a%2f%2fwww.googleapis.com%2fauth%2fdrive%20https%3a%2f%2fwww.googleapis.com%2fauth%2fdrive.photos.readonly%20https%3a%2f%2fwww.googleapis.com%2fauth%2fpeopleapi.readonly\n",
            "\n",
            "Enter your authorization code:\n",
            "··········\n",
            "Mounted at /content/gdrive\n",
            "/content/gdrive/My Drive/Project/LSTM-in-Trade\n",
            "remote: Enumerating objects: 10, done.\u001b[K\n",
            "remote: Counting objects: 100% (10/10), done.\u001b[K\n",
            "remote: Compressing objects: 100% (7/7), done.\u001b[K\n",
            "remote: Total 8 (delta 3), reused 5 (delta 1), pack-reused 0\u001b[K\n",
            "Unpacking objects: 100% (8/8), done.\n",
            "From https://github.com/NishitSingh2023/LSTM-in-Trade\n",
            "   1cf6fc1..63a9394  master     -> origin/master\n",
            "Updating 1cf6fc1..63a9394\n",
            "Fast-forward\n",
            " Capstone_Project.ipynb | 672 \u001b[32m+++++++++++++++++++++++++++\u001b[m\u001b[31m----------------------\u001b[m\n",
            " 1 file changed, 372 insertions(+), 300 deletions(-)\n"
          ],
          "name": "stdout"
        }
      ]
    },
    {
      "cell_type": "code",
      "metadata": {
        "colab_type": "code",
        "id": "u-9QwZVNL5-V",
        "colab": {}
      },
      "source": [
        "import numpy as np\n",
        "import pandas as pd\n",
        "import datetime as dt\n",
        "import os\n",
        "import tensorflow as tf\n",
        "from sklearn.preprocessing import MinMaxScaler\n",
        "from subprocess import check_output\n",
        "from keras.layers.core import Dense, Activation, Dropout\n",
        "from keras.layers.recurrent import LSTM\n",
        "from keras.models import Sequential\n",
        "from sklearn.model_selection import  train_test_split\n",
        "import time\n",
        "import matplotlib.pyplot as plt\n",
        "from numpy import newaxis"
      ],
      "execution_count": 0,
      "outputs": []
    },
    {
      "cell_type": "code",
      "metadata": {
        "colab_type": "code",
        "id": "osaUyT-GW6E2",
        "colab": {}
      },
      "source": [
        "df = pd.read_csv('DataSet/TATASTEEL.csv', usecols=['Date', 'Symbol', 'Open', 'High', 'Low', 'Close', 'Volume'])"
      ],
      "execution_count": 0,
      "outputs": []
    },
    {
      "cell_type": "code",
      "metadata": {
        "colab_type": "code",
        "id": "NxkM9Y4WXAah",
        "outputId": "dda578a6-1b16-4088-883d-e6a8e8d3ea87",
        "colab": {
          "base_uri": "https://localhost:8080/",
          "height": 153
        }
      },
      "source": [
        "df.count()"
      ],
      "execution_count": 5,
      "outputs": [
        {
          "output_type": "execute_result",
          "data": {
            "text/plain": [
              "Date      4977\n",
              "Symbol    4977\n",
              "Open      4977\n",
              "High      4977\n",
              "Low       4977\n",
              "Close     4977\n",
              "Volume    4977\n",
              "dtype: int64"
            ]
          },
          "metadata": {
            "tags": []
          },
          "execution_count": 5
        }
      ]
    },
    {
      "cell_type": "code",
      "metadata": {
        "colab_type": "code",
        "id": "THRhp0ppcjm8",
        "outputId": "8b86fec0-a5f3-4388-e11c-99feb1ad97f4",
        "colab": {
          "base_uri": "https://localhost:8080/",
          "height": 204
        }
      },
      "source": [
        "df.head()"
      ],
      "execution_count": 6,
      "outputs": [
        {
          "output_type": "execute_result",
          "data": {
            "text/html": [
              "<div>\n",
              "<style scoped>\n",
              "    .dataframe tbody tr th:only-of-type {\n",
              "        vertical-align: middle;\n",
              "    }\n",
              "\n",
              "    .dataframe tbody tr th {\n",
              "        vertical-align: top;\n",
              "    }\n",
              "\n",
              "    .dataframe thead th {\n",
              "        text-align: right;\n",
              "    }\n",
              "</style>\n",
              "<table border=\"1\" class=\"dataframe\">\n",
              "  <thead>\n",
              "    <tr style=\"text-align: right;\">\n",
              "      <th></th>\n",
              "      <th>Date</th>\n",
              "      <th>Symbol</th>\n",
              "      <th>Open</th>\n",
              "      <th>High</th>\n",
              "      <th>Low</th>\n",
              "      <th>Close</th>\n",
              "      <th>Volume</th>\n",
              "    </tr>\n",
              "  </thead>\n",
              "  <tbody>\n",
              "    <tr>\n",
              "      <th>0</th>\n",
              "      <td>2000-01-03</td>\n",
              "      <td>TISCO</td>\n",
              "      <td>148.00</td>\n",
              "      <td>153.2</td>\n",
              "      <td>146.10</td>\n",
              "      <td>152.45</td>\n",
              "      <td>2003185</td>\n",
              "    </tr>\n",
              "    <tr>\n",
              "      <th>1</th>\n",
              "      <td>2000-01-04</td>\n",
              "      <td>TISCO</td>\n",
              "      <td>150.10</td>\n",
              "      <td>153.0</td>\n",
              "      <td>143.05</td>\n",
              "      <td>150.80</td>\n",
              "      <td>1555136</td>\n",
              "    </tr>\n",
              "    <tr>\n",
              "      <th>2</th>\n",
              "      <td>2000-01-05</td>\n",
              "      <td>TISCO</td>\n",
              "      <td>144.60</td>\n",
              "      <td>162.9</td>\n",
              "      <td>144.60</td>\n",
              "      <td>156.55</td>\n",
              "      <td>3840284</td>\n",
              "    </tr>\n",
              "    <tr>\n",
              "      <th>3</th>\n",
              "      <td>2000-01-06</td>\n",
              "      <td>TISCO</td>\n",
              "      <td>158.95</td>\n",
              "      <td>169.1</td>\n",
              "      <td>158.95</td>\n",
              "      <td>168.25</td>\n",
              "      <td>2560449</td>\n",
              "    </tr>\n",
              "    <tr>\n",
              "      <th>4</th>\n",
              "      <td>2000-01-07</td>\n",
              "      <td>TISCO</td>\n",
              "      <td>173.40</td>\n",
              "      <td>179.0</td>\n",
              "      <td>166.30</td>\n",
              "      <td>171.95</td>\n",
              "      <td>3641691</td>\n",
              "    </tr>\n",
              "  </tbody>\n",
              "</table>\n",
              "</div>"
            ],
            "text/plain": [
              "         Date Symbol    Open   High     Low   Close   Volume\n",
              "0  2000-01-03  TISCO  148.00  153.2  146.10  152.45  2003185\n",
              "1  2000-01-04  TISCO  150.10  153.0  143.05  150.80  1555136\n",
              "2  2000-01-05  TISCO  144.60  162.9  144.60  156.55  3840284\n",
              "3  2000-01-06  TISCO  158.95  169.1  158.95  168.25  2560449\n",
              "4  2000-01-07  TISCO  173.40  179.0  166.30  171.95  3641691"
            ]
          },
          "metadata": {
            "tags": []
          },
          "execution_count": 6
        }
      ]
    },
    {
      "cell_type": "code",
      "metadata": {
        "colab_type": "code",
        "id": "7iCK1KCVcrDt",
        "colab": {}
      },
      "source": [
        "data = df.sort_index(ascending=True, axis=0)\n",
        "new_data = pd.DataFrame(index=range(0,len(df)),columns=['Date', 'Close'])\n",
        "for i in range(0,len(data)):\n",
        "    new_data['Date'][i] = data['Date'][i]\n",
        "    new_data['Close'][i] = data['Close'][i]"
      ],
      "execution_count": 0,
      "outputs": []
    },
    {
      "cell_type": "code",
      "metadata": {
        "id": "ryQA2OhAH5gF",
        "colab_type": "code",
        "colab": {}
      },
      "source": [
        "new_data.index = new_data.Date\n",
        "new_data.drop('Date', axis=1, inplace=True)\n",
        "\n",
        "#creating train and test sets\n",
        "dataset = new_data.values\n",
        "\n",
        "train = dataset[0:4238,:]\n",
        "valid = dataset[4238:,:]"
      ],
      "execution_count": 0,
      "outputs": []
    },
    {
      "cell_type": "code",
      "metadata": {
        "id": "VrD_OeEuH5gI",
        "colab_type": "code",
        "colab": {
          "base_uri": "https://localhost:8080/",
          "height": 136
        },
        "outputId": "37712e57-e8f9-4bae-c4f3-373f9890a15d"
      },
      "source": [
        "print(train)"
      ],
      "execution_count": 9,
      "outputs": [
        {
          "output_type": "stream",
          "text": [
            "[[152.45]\n",
            " [150.8]\n",
            " [156.55]\n",
            " ...\n",
            " [388.45]\n",
            " [392.35]\n",
            " [391.25]]\n"
          ],
          "name": "stdout"
        }
      ]
    },
    {
      "cell_type": "code",
      "metadata": {
        "id": "R4LT7ZnXH5gU",
        "colab_type": "code",
        "colab": {}
      },
      "source": [
        "scaler = MinMaxScaler(feature_range=(0, 1))\n",
        "scaled_data = scaler.fit_transform(dataset)"
      ],
      "execution_count": 0,
      "outputs": []
    },
    {
      "cell_type": "code",
      "metadata": {
        "id": "nz9U73pmH5gX",
        "colab_type": "code",
        "colab": {}
      },
      "source": [
        "x_train, y_train = [], []\n",
        "for i in range(60,len(train)):\n",
        "    x_train.append(scaled_data[i-60:i,0])\n",
        "    y_train.append(scaled_data[i,0])\n",
        "x_train, y_train = np.array(x_train), np.array(y_train)\n",
        "\n",
        "x_train = np.reshape(x_train, (x_train.shape[0],x_train.shape[1],1))"
      ],
      "execution_count": 0,
      "outputs": []
    },
    {
      "cell_type": "code",
      "metadata": {
        "id": "4XAVrZjeH5ga",
        "colab_type": "code",
        "colab": {
          "base_uri": "https://localhost:8080/",
          "height": 850
        },
        "outputId": "5c91687b-40fe-425e-f2a9-935061b0d7b2"
      },
      "source": [
        "print(x_train)"
      ],
      "execution_count": 12,
      "outputs": [
        {
          "output_type": "stream",
          "text": [
            "[[[0.0924429 ]\n",
            "  [0.09065263]\n",
            "  [0.09689144]\n",
            "  ...\n",
            "  [0.03987414]\n",
            "  [0.04242391]\n",
            "  [0.0407964 ]]\n",
            "\n",
            " [[0.09065263]\n",
            "  [0.09689144]\n",
            "  [0.10958607]\n",
            "  ...\n",
            "  [0.04242391]\n",
            "  [0.0407964 ]\n",
            "  [0.04481094]]\n",
            "\n",
            " [[0.09689144]\n",
            "  [0.10958607]\n",
            "  [0.11360061]\n",
            "  ...\n",
            "  [0.0407964 ]\n",
            "  [0.04481094]\n",
            "  [0.05197201]]\n",
            "\n",
            " ...\n",
            "\n",
            " [[0.33309825]\n",
            "  [0.34242934]\n",
            "  [0.35143493]\n",
            "  ...\n",
            "  [0.35110942]\n",
            "  [0.33944556]\n",
            "  [0.35279119]]\n",
            "\n",
            " [[0.34242934]\n",
            "  [0.35143493]\n",
            "  [0.35094667]\n",
            "  ...\n",
            "  [0.33944556]\n",
            "  [0.35279119]\n",
            "  [0.3485054 ]]\n",
            "\n",
            " [[0.35143493]\n",
            "  [0.35094667]\n",
            "  [0.35002441]\n",
            "  ...\n",
            "  [0.35279119]\n",
            "  [0.3485054 ]\n",
            "  [0.35273694]]]\n"
          ],
          "name": "stdout"
        }
      ]
    },
    {
      "cell_type": "code",
      "metadata": {
        "id": "lryRBNMIH5ge",
        "colab_type": "code",
        "colab": {
          "base_uri": "https://localhost:8080/",
          "height": 255
        },
        "outputId": "cd790a08-00ea-44ed-ce91-74ba83d0fe25"
      },
      "source": [
        "model = Sequential()\n",
        "model.add(LSTM(180, return_sequences=True, input_shape = (x_train.shape[1],1)))\n",
        "model.add(Dropout(0.2))\n",
        "\n",
        "model.add(LSTM(180, return_sequences=True))\n",
        "model.add(Dropout(0.2))\n",
        "\n",
        "model.add(LSTM(150, return_sequences=True))\n",
        "model.add(Dropout(0.2))\n",
        "\n",
        "model.add(LSTM(200, return_sequences=False))\n",
        "model.add(Dropout(0.2))\n",
        "\n",
        "model.add(Dense(units=1))\n",
        "model.add(Activation('relu'))\n",
        "\n",
        "start = time.time()\n",
        "model.compile(loss='mean_squared_error', optimizer='adam')\n",
        "print ('compilation time : ', time.time() - start)"
      ],
      "execution_count": 13,
      "outputs": [
        {
          "output_type": "stream",
          "text": [
            "WARNING:tensorflow:From /usr/local/lib/python3.6/dist-packages/keras/backend/tensorflow_backend.py:66: The name tf.get_default_graph is deprecated. Please use tf.compat.v1.get_default_graph instead.\n",
            "\n",
            "WARNING:tensorflow:From /usr/local/lib/python3.6/dist-packages/keras/backend/tensorflow_backend.py:541: The name tf.placeholder is deprecated. Please use tf.compat.v1.placeholder instead.\n",
            "\n",
            "WARNING:tensorflow:From /usr/local/lib/python3.6/dist-packages/keras/backend/tensorflow_backend.py:4432: The name tf.random_uniform is deprecated. Please use tf.random.uniform instead.\n",
            "\n",
            "WARNING:tensorflow:From /usr/local/lib/python3.6/dist-packages/keras/backend/tensorflow_backend.py:148: The name tf.placeholder_with_default is deprecated. Please use tf.compat.v1.placeholder_with_default instead.\n",
            "\n",
            "WARNING:tensorflow:From /usr/local/lib/python3.6/dist-packages/keras/backend/tensorflow_backend.py:3733: calling dropout (from tensorflow.python.ops.nn_ops) with keep_prob is deprecated and will be removed in a future version.\n",
            "Instructions for updating:\n",
            "Please use `rate` instead of `keep_prob`. Rate should be set to `rate = 1 - keep_prob`.\n",
            "WARNING:tensorflow:From /usr/local/lib/python3.6/dist-packages/keras/optimizers.py:793: The name tf.train.Optimizer is deprecated. Please use tf.compat.v1.train.Optimizer instead.\n",
            "\n",
            "compilation time :  0.033966064453125\n"
          ],
          "name": "stdout"
        }
      ]
    },
    {
      "cell_type": "code",
      "metadata": {
        "id": "guoV_aWPH5gl",
        "colab_type": "code",
        "colab": {
          "base_uri": "https://localhost:8080/",
          "height": 374
        },
        "outputId": "729ad39d-2822-43c5-9008-7d99d3fd3010"
      },
      "source": [
        "#model.fit( epochs=10, batch_size=32, verbose=2)\n",
        "model.fit(x_train, y_train, batch_size=128, epochs=10, verbose=2)"
      ],
      "execution_count": 15,
      "outputs": [
        {
          "output_type": "stream",
          "text": [
            "Epoch 1/10\n",
            " - 62s - loss: 9.5838e-04\n",
            "Epoch 2/10\n",
            " - 61s - loss: 9.1195e-04\n",
            "Epoch 3/10\n",
            " - 61s - loss: 8.5896e-04\n",
            "Epoch 4/10\n",
            " - 62s - loss: 8.4783e-04\n",
            "Epoch 5/10\n",
            " - 61s - loss: 8.2494e-04\n",
            "Epoch 6/10\n",
            " - 61s - loss: 8.1125e-04\n",
            "Epoch 7/10\n",
            " - 61s - loss: 7.6964e-04\n",
            "Epoch 8/10\n",
            " - 61s - loss: 8.2704e-04\n",
            "Epoch 9/10\n",
            " - 61s - loss: 7.7975e-04\n",
            "Epoch 10/10\n",
            " - 61s - loss: 7.7386e-04\n"
          ],
          "name": "stdout"
        },
        {
          "output_type": "execute_result",
          "data": {
            "text/plain": [
              "<keras.callbacks.History at 0x7f1ae4bc5a58>"
            ]
          },
          "metadata": {
            "tags": []
          },
          "execution_count": 15
        }
      ]
    },
    {
      "cell_type": "code",
      "metadata": {
        "id": "EBdGthFTH5go",
        "colab_type": "code",
        "colab": {}
      },
      "source": [
        "inputs = new_data[len(new_data) - len(valid) - 60:].values\n",
        "inputs = inputs.reshape(-1,1)\n",
        "inputs  = scaler.transform(inputs)\n",
        "\n",
        "X_test = []\n",
        "for i in range(60,inputs.shape[0]):\n",
        "    X_test.append(inputs[i-60:i,0])\n",
        "X_test = np.array(X_test)\n",
        "\n",
        "X_test = np.reshape(X_test, (X_test.shape[0],X_test.shape[1],1))"
      ],
      "execution_count": 0,
      "outputs": []
    },
    {
      "cell_type": "code",
      "metadata": {
        "id": "r677BVlDM69v",
        "colab_type": "code",
        "colab": {}
      },
      "source": [
        "closing_price = model.predict(X_test)\n",
        "closing_price = scaler.inverse_transform(closing_price)"
      ],
      "execution_count": 0,
      "outputs": []
    },
    {
      "cell_type": "code",
      "metadata": {
        "id": "vcbA8kaPNH0l",
        "colab_type": "code",
        "colab": {
          "base_uri": "https://localhost:8080/",
          "height": 34
        },
        "outputId": "b68f7a8e-97e8-4d1a-c07b-a0612bb2b87a"
      },
      "source": [
        "rms=np.sqrt(np.mean(np.power((valid-closing_price),2)))\n",
        "print(rms)"
      ],
      "execution_count": 20,
      "outputs": [
        {
          "output_type": "stream",
          "text": [
            "17.87386146784073\n"
          ],
          "name": "stdout"
        }
      ]
    },
    {
      "cell_type": "code",
      "metadata": {
        "id": "64o4nPqVNPNZ",
        "colab_type": "code",
        "colab": {
          "base_uri": "https://localhost:8080/",
          "height": 401
        },
        "outputId": "27c8cc2e-b26e-4850-fa35-670f42e5be65"
      },
      "source": [
        "%matplotlib inline\n",
        "\n",
        "train = new_data[:4238]\n",
        "valid = new_data[4238:]\n",
        "\n",
        "valid['Predictions'] = closing_price\n",
        "plt.plot(train['Close'])\n",
        "plt.plot(valid[['Close','Predictions']])"
      ],
      "execution_count": 21,
      "outputs": [
        {
          "output_type": "stream",
          "text": [
            "/usr/local/lib/python3.6/dist-packages/ipykernel_launcher.py:6: SettingWithCopyWarning: \n",
            "A value is trying to be set on a copy of a slice from a DataFrame.\n",
            "Try using .loc[row_indexer,col_indexer] = value instead\n",
            "\n",
            "See the caveats in the documentation: http://pandas.pydata.org/pandas-docs/stable/user_guide/indexing.html#returning-a-view-versus-a-copy\n",
            "  \n"
          ],
          "name": "stderr"
        },
        {
          "output_type": "execute_result",
          "data": {
            "text/plain": [
              "[<matplotlib.lines.Line2D at 0x7f1a73c8bc88>,\n",
              " <matplotlib.lines.Line2D at 0x7f1a73a9dcf8>]"
            ]
          },
          "metadata": {
            "tags": []
          },
          "execution_count": 21
        },
        {
          "output_type": "display_data",
          "data": {
            "image/png": "[encoded data removed]",
            "text/plain": [
              "<Figure size 432x288 with 1 Axes>"
            ]
          },
          "metadata": {
            "tags": []
          }
        }
      ]
    },
    {
      "cell_type": "code",
      "metadata": {
        "id": "vDiONjuONWW0",
        "colab_type": "code",
        "colab": {}
      },
      "source": [
        ""
      ],
      "execution_count": 0,
      "outputs": []
    }
  ]
}