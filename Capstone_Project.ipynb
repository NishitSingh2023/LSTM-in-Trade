{
  "nbformat": 4,
  "nbformat_minor": 0,
  "metadata": {
    "colab": {
      "name": "Capstone_Project.ipynb",
      "provenance": [],
      "include_colab_link": true
    },
    "kernelspec": {
      "name": "python3",
      "display_name": "Python 3"
    }
  },
  "cells": [
    {
      "cell_type": "markdown",
      "metadata": {
        "id": "view-in-github",
        "colab_type": "text"
      },
      "source": [
        "<a href=\"https://colab.research.google.com/github/NishitSingh2023/LSTM-in-Trade/blob/master/Capstone_Project.ipynb\" target=\"_parent\"><img src=\"https://colab.research.google.com/assets/colab-badge.svg\" alt=\"Open In Colab\"/></a>"
      ]
    },
    {
      "cell_type": "code",
      "metadata": {
        "colab_type": "code",
        "outputId": "4aa6113e-6664-482a-cda5-0827e5f8d89f",
        "id": "QAGf3ljAcjmU",
        "colab": {
          "base_uri": "https://localhost:8080/",
          "height": 85
        }
      },
      "source": [
        "from google.colab import drive\n",
        "drive.mount('/content/gdrive')\n",
        "\n",
        "%cd gdrive/My Drive/Project/LSTM-in-Trade\n",
        "\n",
        "! git pull"
      ],
      "execution_count": 16,
      "outputs": [
        {
          "output_type": "stream",
          "text": [
            "Drive already mounted at /content/gdrive; to attempt to forcibly remount, call drive.mount(\"/content/gdrive\", force_remount=True).\n",
            "[Errno 2] No such file or directory: 'gdrive/My Drive/Project/LSTM-in-Trade'\n",
            "/content/gdrive/My Drive/Project/LSTM-in-Trade\n",
            "Already up to date.\n"
          ],
          "name": "stdout"
        }
      ]
    },
    {
      "cell_type": "code",
      "metadata": {
        "id": "u-9QwZVNL5-V",
        "colab_type": "code",
        "colab": {}
      },
      "source": [
        "import numpy as np\n",
        "import pandas as pd"
      ],
      "execution_count": 0,
      "outputs": []
    },
    {
      "cell_type": "code",
      "metadata": {
        "id": "osaUyT-GW6E2",
        "colab_type": "code",
        "colab": {}
      },
      "source": [
        "df = pd.read_csv('DataSet/TATASTEEL.csv')"
      ],
      "execution_count": 0,
      "outputs": []
    },
    {
      "cell_type": "code",
      "metadata": {
        "id": "NxkM9Y4WXAah",
        "colab_type": "code",
        "outputId": "2ffbeaf3-0926-4294-b76c-a1e1335336fc",
        "colab": {
          "base_uri": "https://localhost:8080/",
          "height": 289
        }
      },
      "source": [
        "df.count()"
      ],
      "execution_count": 19,
      "outputs": [
        {
          "output_type": "execute_result",
          "data": {
            "text/plain": [
              "Date                  4977\n",
              "Symbol                4977\n",
              "Series                4977\n",
              "Prev Close            4977\n",
              "Open                  4977\n",
              "High                  4977\n",
              "Low                   4977\n",
              "Last                  4977\n",
              "Close                 4977\n",
              "VWAP                  4977\n",
              "Volume                4977\n",
              "Turnover              4977\n",
              "Trades                2126\n",
              "Deliverable Volume    4463\n",
              "%Deliverble           4463\n",
              "dtype: int64"
            ]
          },
          "metadata": {
            "tags": []
          },
          "execution_count": 19
        }
      ]
    },
    {
      "cell_type": "code",
      "metadata": {
        "colab_type": "code",
        "outputId": "00f12b81-bc11-4179-9597-dc3a719daeb5",
        "id": "THRhp0ppcjm8",
        "colab": {
          "base_uri": "https://localhost:8080/",
          "height": 204
        }
      },
      "source": [
        "df.head()"
      ],
      "execution_count": 20,
      "outputs": [
        {
          "output_type": "execute_result",
          "data": {
            "text/html": [
              "<div>\n",
              "<style scoped>\n",
              "    .dataframe tbody tr th:only-of-type {\n",
              "        vertical-align: middle;\n",
              "    }\n",
              "\n",
              "    .dataframe tbody tr th {\n",
              "        vertical-align: top;\n",
              "    }\n",
              "\n",
              "    .dataframe thead th {\n",
              "        text-align: right;\n",
              "    }\n",
              "</style>\n",
              "<table border=\"1\" class=\"dataframe\">\n",
              "  <thead>\n",
              "    <tr style=\"text-align: right;\">\n",
              "      <th></th>\n",
              "      <th>Date</th>\n",
              "      <th>Symbol</th>\n",
              "      <th>Series</th>\n",
              "      <th>Prev Close</th>\n",
              "      <th>Open</th>\n",
              "      <th>High</th>\n",
              "      <th>Low</th>\n",
              "      <th>Last</th>\n",
              "      <th>Close</th>\n",
              "      <th>VWAP</th>\n",
              "      <th>Volume</th>\n",
              "      <th>Turnover</th>\n",
              "      <th>Trades</th>\n",
              "      <th>Deliverable Volume</th>\n",
              "      <th>%Deliverble</th>\n",
              "    </tr>\n",
              "  </thead>\n",
              "  <tbody>\n",
              "    <tr>\n",
              "      <th>0</th>\n",
              "      <td>2000-01-03</td>\n",
              "      <td>TISCO</td>\n",
              "      <td>EQ</td>\n",
              "      <td>142.35</td>\n",
              "      <td>148.00</td>\n",
              "      <td>153.2</td>\n",
              "      <td>146.10</td>\n",
              "      <td>152.50</td>\n",
              "      <td>152.45</td>\n",
              "      <td>150.92</td>\n",
              "      <td>2003185</td>\n",
              "      <td>3.023164e+13</td>\n",
              "      <td>NaN</td>\n",
              "      <td>NaN</td>\n",
              "      <td>NaN</td>\n",
              "    </tr>\n",
              "    <tr>\n",
              "      <th>1</th>\n",
              "      <td>2000-01-04</td>\n",
              "      <td>TISCO</td>\n",
              "      <td>EQ</td>\n",
              "      <td>152.45</td>\n",
              "      <td>150.10</td>\n",
              "      <td>153.0</td>\n",
              "      <td>143.05</td>\n",
              "      <td>151.95</td>\n",
              "      <td>150.80</td>\n",
              "      <td>151.03</td>\n",
              "      <td>1555136</td>\n",
              "      <td>2.348785e+13</td>\n",
              "      <td>NaN</td>\n",
              "      <td>NaN</td>\n",
              "      <td>NaN</td>\n",
              "    </tr>\n",
              "    <tr>\n",
              "      <th>2</th>\n",
              "      <td>2000-01-05</td>\n",
              "      <td>TISCO</td>\n",
              "      <td>EQ</td>\n",
              "      <td>150.80</td>\n",
              "      <td>144.60</td>\n",
              "      <td>162.9</td>\n",
              "      <td>144.60</td>\n",
              "      <td>158.00</td>\n",
              "      <td>156.55</td>\n",
              "      <td>156.85</td>\n",
              "      <td>3840284</td>\n",
              "      <td>6.023364e+13</td>\n",
              "      <td>NaN</td>\n",
              "      <td>NaN</td>\n",
              "      <td>NaN</td>\n",
              "    </tr>\n",
              "    <tr>\n",
              "      <th>3</th>\n",
              "      <td>2000-01-06</td>\n",
              "      <td>TISCO</td>\n",
              "      <td>EQ</td>\n",
              "      <td>156.55</td>\n",
              "      <td>158.95</td>\n",
              "      <td>169.1</td>\n",
              "      <td>158.95</td>\n",
              "      <td>169.00</td>\n",
              "      <td>168.25</td>\n",
              "      <td>167.61</td>\n",
              "      <td>2560449</td>\n",
              "      <td>4.291530e+13</td>\n",
              "      <td>NaN</td>\n",
              "      <td>NaN</td>\n",
              "      <td>NaN</td>\n",
              "    </tr>\n",
              "    <tr>\n",
              "      <th>4</th>\n",
              "      <td>2000-01-07</td>\n",
              "      <td>TISCO</td>\n",
              "      <td>EQ</td>\n",
              "      <td>168.25</td>\n",
              "      <td>173.40</td>\n",
              "      <td>179.0</td>\n",
              "      <td>166.30</td>\n",
              "      <td>170.55</td>\n",
              "      <td>171.95</td>\n",
              "      <td>173.89</td>\n",
              "      <td>3641691</td>\n",
              "      <td>6.332459e+13</td>\n",
              "      <td>NaN</td>\n",
              "      <td>NaN</td>\n",
              "      <td>NaN</td>\n",
              "    </tr>\n",
              "  </tbody>\n",
              "</table>\n",
              "</div>"
            ],
            "text/plain": [
              "         Date Symbol Series  ...  Trades  Deliverable Volume  %Deliverble\n",
              "0  2000-01-03  TISCO     EQ  ...     NaN                 NaN          NaN\n",
              "1  2000-01-04  TISCO     EQ  ...     NaN                 NaN          NaN\n",
              "2  2000-01-05  TISCO     EQ  ...     NaN                 NaN          NaN\n",
              "3  2000-01-06  TISCO     EQ  ...     NaN                 NaN          NaN\n",
              "4  2000-01-07  TISCO     EQ  ...     NaN                 NaN          NaN\n",
              "\n",
              "[5 rows x 15 columns]"
            ]
          },
          "metadata": {
            "tags": []
          },
          "execution_count": 20
        }
      ]
    },
    {
      "cell_type": "code",
      "metadata": {
        "id": "7iCK1KCVcrDt",
        "colab_type": "code",
        "colab": {}
      },
      "source": [
        ""
      ],
      "execution_count": 0,
      "outputs": []
    }
  ]
}