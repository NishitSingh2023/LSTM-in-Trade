{
 "cells": [
  {
   "cell_type": "markdown",
   "metadata": {
    "colab_type": "text",
    "id": "view-in-github"
   },
   "source": [
    "<a href=\"https://colab.research.google.com/github/NishitSingh2023/LSTM-in-Trade/blob/master/Capstone_Project.ipynb\" target=\"_parent\"><img src=\"https://colab.research.google.com/assets/colab-badge.svg\" alt=\"Open In Colab\"/></a>"
   ]
  },
  {
   "cell_type": "code",
   "execution_count": 2,
   "metadata": {
    "colab": {
     "base_uri": "https://localhost:8080/",
     "height": 326
    },
    "colab_type": "code",
    "id": "QAGf3ljAcjmU",
    "outputId": "040d4e11-4442-4f23-da8f-d388293b76a8"
   },
   "outputs": [
    {
     "name": "stdout",
     "output_type": "stream",
     "text": [
      "Go to this URL in a browser: https://accounts.google.com/o/oauth2/auth?client_id=947318989803-6bn6qk8qdgf4n4g3pfee6491hc0brc4i.apps.googleusercontent.com&redirect_uri=urn%3aietf%3awg%3aoauth%3a2.0%3aoob&response_type=code&scope=email%20https%3a%2f%2fwww.googleapis.com%2fauth%2fdocs.test%20https%3a%2f%2fwww.googleapis.com%2fauth%2fdrive%20https%3a%2f%2fwww.googleapis.com%2fauth%2fdrive.photos.readonly%20https%3a%2f%2fwww.googleapis.com%2fauth%2fpeopleapi.readonly\n",
      "\n",
      "Enter your authorization code:\n",
      "··········\n",
      "Mounted at /content/gdrive\n",
      "/content/gdrive/My Drive/Project/LSTM-in-Trade\n",
      "remote: Enumerating objects: 5, done.\u001b[K\n",
      "remote: Counting objects: 100% (5/5), done.\u001b[K\n",
      "remote: Compressing objects: 100% (3/3), done.\u001b[K\n",
      "remote: Total 3 (delta 1), reused 0 (delta 0), pack-reused 0\u001b[K\n",
      "Unpacking objects: 100% (3/3), done.\n",
      "From https://github.com/NishitSingh2023/LSTM-in-Trade\n",
      "   63a9394..f366a46  master     -> origin/master\n",
      "Updating 63a9394..f366a46\n",
      "Fast-forward\n",
      " Capstone_Project.ipynb | 1063 \u001b[32m+++++++++++++++++++++++++++++++\u001b[m\u001b[31m-----------------\u001b[m\n",
      " 1 file changed, 691 insertions(+), 372 deletions(-)\n"
     ]
    }
   ],
   "source": [
    "from google.colab import drive\n",
    "drive.mount('/content/gdrive')\n",
    "\n",
    "%cd gdrive/My Drive/Project/LSTM-in-Trade\n",
    "\n",
    "! git pull"
   ]
  },
  {
   "cell_type": "code",
   "execution_count": 266,
   "metadata": {
    "colab": {
     "base_uri": "https://localhost:8080/",
     "height": 80
    },
    "colab_type": "code",
    "id": "u-9QwZVNL5-V",
    "outputId": "98792141-353d-43f9-996f-feb6906d1d9c"
   },
   "outputs": [],
   "source": [
    "import numpy as np\n",
    "import pandas as pd\n",
    "import datetime as dt\n",
    "import os\n",
    "import tensorflow as tf\n",
    "from sklearn.preprocessing import MinMaxScaler\n",
    "from subprocess import check_output\n",
    "from keras.layers.core import Dense, Activation, Dropout\n",
    "from keras.layers.recurrent import LSTM\n",
    "from keras.models import Sequential\n",
    "from sklearn.model_selection import  train_test_split\n",
    "import time\n",
    "import matplotlib.pyplot as plt\n",
    "from numpy import newaxis"
   ]
  },
  {
   "cell_type": "code",
   "execution_count": 267,
   "metadata": {},
   "outputs": [
    {
     "name": "stdout",
     "output_type": "stream",
     "text": [
      "                                    Company Name      Symbol\n",
      "0     Adani Ports and Special Economic Zone Ltd.  ADANIPORTS\n",
      "1                              Asian Paints Ltd.  ASIANPAINT\n",
      "2                                 Axis Bank Ltd.    AXISBANK\n",
      "3                                Bajaj Auto Ltd.  BAJAJ-AUTO\n",
      "4                             Bajaj Finance Ltd.  BAJFINANCE\n",
      "5                             Bajaj Finserv Ltd.  BAJAJFINSV\n",
      "6              Bharat Petroleum Corporation Ltd.        BPCL\n",
      "7                             Bharti Airtel Ltd.  BHARTIARTL\n",
      "8                           Bharti Infratel Ltd.    INFRATEL\n",
      "9                      Britannia Industries Ltd.   BRITANNIA\n",
      "10                                    Cipla Ltd.       CIPLA\n",
      "11                               Coal India Ltd.   COALINDIA\n",
      "12                 Dr. Reddy's Laboratories Ltd.     DRREDDY\n",
      "13                            Eicher Motors Ltd.   EICHERMOT\n",
      "14                             GAIL (India) Ltd.        GAIL\n",
      "15                        Grasim Industries Ltd.      GRASIM\n",
      "16                         HCL Technologies Ltd.     HCLTECH\n",
      "17                                HDFC Bank Ltd.    HDFCBANK\n",
      "18                            Hero MotoCorp Ltd.  HEROMOTOCO\n",
      "19                      Hindalco Industries Ltd.    HINDALCO\n",
      "20                       Hindustan Unilever Ltd.  HINDUNILVR\n",
      "21  Housing Development Finance Corporation Ltd.        HDFC\n",
      "22                               ICICI Bank Ltd.   ICICIBANK\n",
      "23                                      ITC Ltd.         ITC\n",
      "24                   Indian Oil Corporation Ltd.         IOC\n",
      "25                            IndusInd Bank Ltd.  INDUSINDBK\n",
      "26                                  Infosys Ltd.        INFY\n",
      "27                                JSW Steel Ltd.    JSWSTEEL\n",
      "28                      Kotak Mahindra Bank Ltd.   KOTAKBANK\n",
      "29                          Larsen & Toubro Ltd.          LT\n",
      "30                      Mahindra & Mahindra Ltd.         M&M\n",
      "31                      Maruti Suzuki India Ltd.      MARUTI\n",
      "32                                     NTPC Ltd.        NTPC\n",
      "33                             Nestle India Ltd.   NESTLEIND\n",
      "34            Oil & Natural Gas Corporation Ltd.        ONGC\n",
      "35          Power Grid Corporation of India Ltd.   POWERGRID\n",
      "36                      Reliance Industries Ltd.    RELIANCE\n",
      "37                           State Bank of India        SBIN\n",
      "38            Sun Pharmaceutical Industries Ltd.   SUNPHARMA\n",
      "39                Tata Consultancy Services Ltd.         TCS\n",
      "40                              Tata Motors Ltd.  TATAMOTORS\n",
      "41                               Tata Steel Ltd.   TATASTEEL\n",
      "42                            Tech Mahindra Ltd.       TECHM\n",
      "43                            Titan Company Ltd.       TITAN\n",
      "44                                      UPL Ltd.         UPL\n",
      "45                         UltraTech Cement Ltd.  ULTRACEMCO\n",
      "46                                  Vedanta Ltd.        VEDL\n",
      "47                                    Wipro Ltd.       WIPRO\n",
      "48                                 Yes Bank Ltd.     YESBANK\n",
      "49            Zee Entertainment Enterprises Ltd.        ZEEL\n",
      "Enter the symbol for the stock to be predicted referring from the table below: HDFC\n"
     ]
    }
   ],
   "source": [
    "c = pd.read_csv('DataSet/0stock_metadata.csv', usecols=['Company Name','Symbol'])\n",
    "print(c)\n",
    "choice=input(\"Enter the symbol for the stock to be predicted referring from the table below: \")"
   ]
  },
  {
   "cell_type": "code",
   "execution_count": 268,
   "metadata": {
    "colab": {},
    "colab_type": "code",
    "id": "osaUyT-GW6E2"
   },
   "outputs": [],
   "source": [
    "df = pd.read_csv('DataSet/'+choice+'.csv', usecols=['Date', 'Symbol', 'Open', 'High', 'Low', 'Close', 'Volume'])"
   ]
  },
  {
   "cell_type": "code",
   "execution_count": 269,
   "metadata": {
    "colab": {
     "base_uri": "https://localhost:8080/",
     "height": 153
    },
    "colab_type": "code",
    "id": "NxkM9Y4WXAah",
    "outputId": "ce4b7bd2-c1e4-47e8-e8d0-3d6a5f0b80c6"
   },
   "outputs": [
    {
     "data": {
      "text/plain": [
       "Date      4977\n",
       "Symbol    4977\n",
       "Open      4977\n",
       "High      4977\n",
       "Low       4977\n",
       "Close     4977\n",
       "Volume    4977\n",
       "dtype: int64"
      ]
     },
     "execution_count": 269,
     "metadata": {},
     "output_type": "execute_result"
    }
   ],
   "source": [
    "df.count()"
   ]
  },
  {
   "cell_type": "code",
   "execution_count": 270,
   "metadata": {
    "colab": {
     "base_uri": "https://localhost:8080/",
     "height": 204
    },
    "colab_type": "code",
    "id": "THRhp0ppcjm8",
    "outputId": "3a5d42c9-dd8e-4e42-c719-9f8fb139be08"
   },
   "outputs": [
    {
     "data": {
      "text/html": [
       "<div>\n",
       "<style scoped>\n",
       "    .dataframe tbody tr th:only-of-type {\n",
       "        vertical-align: middle;\n",
       "    }\n",
       "\n",
       "    .dataframe tbody tr th {\n",
       "        vertical-align: top;\n",
       "    }\n",
       "\n",
       "    .dataframe thead th {\n",
       "        text-align: right;\n",
       "    }\n",
       "</style>\n",
       "<table border=\"1\" class=\"dataframe\">\n",
       "  <thead>\n",
       "    <tr style=\"text-align: right;\">\n",
       "      <th></th>\n",
       "      <th>Date</th>\n",
       "      <th>Symbol</th>\n",
       "      <th>Open</th>\n",
       "      <th>High</th>\n",
       "      <th>Low</th>\n",
       "      <th>Close</th>\n",
       "      <th>Volume</th>\n",
       "    </tr>\n",
       "  </thead>\n",
       "  <tbody>\n",
       "    <tr>\n",
       "      <th>0</th>\n",
       "      <td>2000-01-03</td>\n",
       "      <td>HDFC</td>\n",
       "      <td>293.5</td>\n",
       "      <td>293.50</td>\n",
       "      <td>293.5</td>\n",
       "      <td>293.50</td>\n",
       "      <td>22744</td>\n",
       "    </tr>\n",
       "    <tr>\n",
       "      <th>1</th>\n",
       "      <td>2000-01-04</td>\n",
       "      <td>HDFC</td>\n",
       "      <td>317.0</td>\n",
       "      <td>317.00</td>\n",
       "      <td>297.0</td>\n",
       "      <td>304.05</td>\n",
       "      <td>255251</td>\n",
       "    </tr>\n",
       "    <tr>\n",
       "      <th>2</th>\n",
       "      <td>2000-01-05</td>\n",
       "      <td>HDFC</td>\n",
       "      <td>290.0</td>\n",
       "      <td>303.90</td>\n",
       "      <td>285.0</td>\n",
       "      <td>292.80</td>\n",
       "      <td>269087</td>\n",
       "    </tr>\n",
       "    <tr>\n",
       "      <th>3</th>\n",
       "      <td>2000-01-06</td>\n",
       "      <td>HDFC</td>\n",
       "      <td>301.0</td>\n",
       "      <td>314.00</td>\n",
       "      <td>295.0</td>\n",
       "      <td>296.45</td>\n",
       "      <td>305916</td>\n",
       "    </tr>\n",
       "    <tr>\n",
       "      <th>4</th>\n",
       "      <td>2000-01-07</td>\n",
       "      <td>HDFC</td>\n",
       "      <td>290.0</td>\n",
       "      <td>296.35</td>\n",
       "      <td>281.0</td>\n",
       "      <td>286.55</td>\n",
       "      <td>197039</td>\n",
       "    </tr>\n",
       "  </tbody>\n",
       "</table>\n",
       "</div>"
      ],
      "text/plain": [
       "         Date Symbol   Open    High    Low   Close  Volume\n",
       "0  2000-01-03   HDFC  293.5  293.50  293.5  293.50   22744\n",
       "1  2000-01-04   HDFC  317.0  317.00  297.0  304.05  255251\n",
       "2  2000-01-05   HDFC  290.0  303.90  285.0  292.80  269087\n",
       "3  2000-01-06   HDFC  301.0  314.00  295.0  296.45  305916\n",
       "4  2000-01-07   HDFC  290.0  296.35  281.0  286.55  197039"
      ]
     },
     "execution_count": 270,
     "metadata": {},
     "output_type": "execute_result"
    }
   ],
   "source": [
    "df.head()"
   ]
  },
  {
   "cell_type": "code",
   "execution_count": 271,
   "metadata": {},
   "outputs": [
    {
     "data": {
      "image/png": "[encoded data removed]",
      "text/plain": [
       "<Figure size 720x432 with 1 Axes>"
      ]
     },
     "metadata": {
      "needs_background": "light"
     },
     "output_type": "display_data"
    }
   ],
   "source": [
    "df['Date'] = pd.to_datetime(df['Date'])\n",
    "fig = plt.figure(figsize=(10,6))\n",
    "ax1 = fig.add_axes([0, 0, 1, 1])\n",
    "ax1.set_title('High vs Low')\n",
    "ax1.plot(df['Date'],df['High'],color='green')\n",
    "ax1.plot(df['Date'],df['Low'],color='red')\n",
    "plt.show()"
   ]
  },
  {
   "cell_type": "code",
   "execution_count": 272,
   "metadata": {
    "colab": {},
    "colab_type": "code",
    "id": "7iCK1KCVcrDt"
   },
   "outputs": [],
   "source": [
    "data = df.sort_index(ascending=True, axis=0)\n",
    "new_data = pd.DataFrame(index=range(0,len(df)),columns=['Date','Open','High','Low','Close'])\n",
    "for i in range(0,len(data)):\n",
    "    new_data['Date'][i] = data['Date'][i]\n",
    "    new_data['Close'][i] = data['Close'][i]\n",
    "    new_data['Open'][i] = data['Open'][i]\n",
    "    new_data['High'][i] = data['High'][i]\n",
    "    new_data['Low'][i] = data['Low'][i]"
   ]
  },
  {
   "cell_type": "code",
   "execution_count": 273,
   "metadata": {
    "colab": {},
    "colab_type": "code",
    "id": "ryQA2OhAH5gF"
   },
   "outputs": [],
   "source": [
    "new_data.index = new_data.Date\n",
    "new_data.drop('Date', axis=1, inplace=True)\n",
    "\n",
    "#creating train and test sets\n",
    "dataset = new_data.values\n",
    "\n",
    "train = dataset[0:4238,:]\n",
    "valid = dataset[4238:,:]\n",
    "train=train.reshape(-1,1)\n",
    "valid=valid.reshape(-1,1)"
   ]
  },
  {
   "cell_type": "code",
   "execution_count": 274,
   "metadata": {
    "colab": {
     "base_uri": "https://localhost:8080/",
     "height": 136
    },
    "colab_type": "code",
    "id": "VrD_OeEuH5gI",
    "outputId": "3e2af3f3-5b83-49a7-cf41-73a529cb5e9e"
   },
   "outputs": [
    {
     "name": "stdout",
     "output_type": "stream",
     "text": [
      "[[1272.0]\n",
      " [1272.0]\n",
      " [1213.7]\n",
      " ...\n",
      " [2435.0]\n",
      " [2406.55]\n",
      " [2412.55]]\n"
     ]
    }
   ],
   "source": [
    "print(valid)"
   ]
  },
  {
   "cell_type": "code",
   "execution_count": 290,
   "metadata": {
    "colab": {},
    "colab_type": "code",
    "id": "R4LT7ZnXH5gU"
   },
   "outputs": [
    {
     "name": "stderr",
     "output_type": "stream",
     "text": [
      "C:\\ProgramData\\Anaconda3\\lib\\site-packages\\sklearn\\utils\\validation.py:595: DataConversionWarning: Data with input dtype object was converted to float64 by MinMaxScaler.\n",
      "  warnings.warn(msg, DataConversionWarning)\n",
      "C:\\ProgramData\\Anaconda3\\lib\\site-packages\\sklearn\\utils\\validation.py:595: DataConversionWarning: Data with input dtype object was converted to float64 by MinMaxScaler.\n",
      "  warnings.warn(msg, DataConversionWarning)\n"
     ]
    }
   ],
   "source": [
    "scaler = MinMaxScaler()\n",
    "scaled_data = scaler.fit_transform(train)\n",
    "np.append(scaled_data,scaler.fit_transform(valid),axis=0)\n",
    "scaled_data=scaled_data.reshape(-1,4)"
   ]
  },
  {
   "cell_type": "code",
   "execution_count": 302,
   "metadata": {
    "colab": {},
    "colab_type": "code",
    "id": "nz9U73pmH5gX"
   },
   "outputs": [
    {
     "ename": "IndexError",
     "evalue": "list index out of range",
     "output_type": "error",
     "traceback": [
      "\u001b[1;31m---------------------------------------------------------------------------\u001b[0m",
      "\u001b[1;31mIndexError\u001b[0m                                Traceback (most recent call last)",
      "\u001b[1;32m<ipython-input-302-11d14c8f8fdf>\u001b[0m in \u001b[0;36m<module>\u001b[1;34m\u001b[0m\n\u001b[0;32m      2\u001b[0m \u001b[1;32mfor\u001b[0m \u001b[0mi\u001b[0m \u001b[1;32min\u001b[0m \u001b[0mrange\u001b[0m\u001b[1;33m(\u001b[0m\u001b[1;36m60\u001b[0m\u001b[1;33m,\u001b[0m\u001b[0mlen\u001b[0m\u001b[1;33m(\u001b[0m\u001b[0mtrain\u001b[0m\u001b[1;33m)\u001b[0m\u001b[1;33m-\u001b[0m\u001b[1;36m1\u001b[0m\u001b[1;33m)\u001b[0m\u001b[1;33m:\u001b[0m\u001b[1;33m\u001b[0m\u001b[1;33m\u001b[0m\u001b[0m\n\u001b[0;32m      3\u001b[0m     \u001b[0mx_train\u001b[0m\u001b[1;33m.\u001b[0m\u001b[0mappend\u001b[0m\u001b[1;33m(\u001b[0m\u001b[0mscaled_data\u001b[0m\u001b[1;33m[\u001b[0m\u001b[0mi\u001b[0m\u001b[1;33m-\u001b[0m\u001b[1;36m60\u001b[0m\u001b[1;33m:\u001b[0m\u001b[0mi\u001b[0m\u001b[1;33m,\u001b[0m\u001b[1;36m0\u001b[0m\u001b[1;33m]\u001b[0m\u001b[1;33m)\u001b[0m\u001b[1;33m\u001b[0m\u001b[1;33m\u001b[0m\u001b[0m\n\u001b[1;32m----> 4\u001b[1;33m     \u001b[0my_train\u001b[0m\u001b[1;33m.\u001b[0m\u001b[0mappend\u001b[0m\u001b[1;33m(\u001b[0m\u001b[0mlist\u001b[0m\u001b[1;33m(\u001b[0m\u001b[0mscaled_data\u001b[0m\u001b[1;33m[\u001b[0m\u001b[0mi\u001b[0m\u001b[1;33m:\u001b[0m\u001b[0mi\u001b[0m\u001b[1;33m+\u001b[0m\u001b[1;36m1\u001b[0m\u001b[1;33m]\u001b[0m\u001b[1;33m)\u001b[0m\u001b[1;33m[\u001b[0m\u001b[1;36m0\u001b[0m\u001b[1;33m]\u001b[0m\u001b[1;33m[\u001b[0m\u001b[1;36m3\u001b[0m\u001b[1;33m]\u001b[0m\u001b[1;33m)\u001b[0m\u001b[1;33m\u001b[0m\u001b[1;33m\u001b[0m\u001b[0m\n\u001b[0m\u001b[0;32m      5\u001b[0m \u001b[0mx_train\u001b[0m\u001b[1;33m,\u001b[0m \u001b[0my_train\u001b[0m \u001b[1;33m=\u001b[0m \u001b[0mnp\u001b[0m\u001b[1;33m.\u001b[0m\u001b[0marray\u001b[0m\u001b[1;33m(\u001b[0m\u001b[0mx_train\u001b[0m\u001b[1;33m)\u001b[0m\u001b[1;33m,\u001b[0m \u001b[0mnp\u001b[0m\u001b[1;33m.\u001b[0m\u001b[0marray\u001b[0m\u001b[1;33m(\u001b[0m\u001b[0my_train\u001b[0m\u001b[1;33m)\u001b[0m\u001b[1;33m\u001b[0m\u001b[1;33m\u001b[0m\u001b[0m\n\u001b[0;32m      6\u001b[0m \u001b[0mprint\u001b[0m\u001b[1;33m(\u001b[0m\u001b[0mx_train\u001b[0m\u001b[1;33m.\u001b[0m\u001b[0mshape\u001b[0m\u001b[1;33m[\u001b[0m\u001b[1;36m1\u001b[0m\u001b[1;33m]\u001b[0m\u001b[1;33m)\u001b[0m\u001b[1;33m\u001b[0m\u001b[1;33m\u001b[0m\u001b[0m\n",
      "\u001b[1;31mIndexError\u001b[0m: list index out of range"
     ]
    }
   ],
   "source": [
    "x_train, y_train = [], []\n",
    "for i in range(60,len(train)):\n",
    "    x_train.append(scaled_data[i-60:i,0])\n",
    "    y_train.append(list(scaled_data[i:i+1])[0][3])\n",
    "x_train, y_train = np.array(x_train), np.array(y_train)\n",
    "print(x_train.shape[1])\n",
    "x_train = np.reshape(x_train, (x_train.shape[0],x_train.shape[1],1))"
   ]
  },
  {
   "cell_type": "code",
   "execution_count": 298,
   "metadata": {
    "colab": {
     "base_uri": "https://localhost:8080/",
     "height": 850
    },
    "colab_type": "code",
    "id": "4XAVrZjeH5ga",
    "outputId": "95f18ff1-2b19-4843-e0ae-9e4063a1bb86"
   },
   "outputs": [
    {
     "name": "stdout",
     "output_type": "stream",
     "text": [
      "0.010305311585110846\n"
     ]
    }
   ],
   "source": [
    "print(list(scaled_data[1:2])[0][3])"
   ]
  },
  {
   "cell_type": "code",
   "execution_count": 246,
   "metadata": {
    "colab": {
     "base_uri": "https://localhost:8080/",
     "height": 255
    },
    "colab_type": "code",
    "id": "lryRBNMIH5ge",
    "outputId": "837a6527-1ff0-4583-a227-598d4ff244b2"
   },
   "outputs": [
    {
     "name": "stdout",
     "output_type": "stream",
     "text": [
      "compilation time :  0.0498659610748291\n"
     ]
    }
   ],
   "source": [
    "model = Sequential()\n",
    "model.add(LSTM(180, return_sequences=True, input_shape = (x_train.shape[1],1)))\n",
    "model.add(Dropout(0.2))\n",
    "\n",
    "model.add(LSTM(180, return_sequences=True))\n",
    "model.add(Dropout(0.2))\n",
    "\n",
    "model.add(LSTM(150, return_sequences=True))\n",
    "model.add(Dropout(0.2))\n",
    "\n",
    "model.add(LSTM(200, return_sequences=False))\n",
    "model.add(Dropout(0.2))\n",
    "\n",
    "model.add(Dense(units=1))\n",
    "model.add(Activation('relu'))\n",
    "\n",
    "start = time.time()\n",
    "model.compile(loss='mean_squared_error', optimizer='adam')\n",
    "print ('compilation time : ', time.time() - start)"
   ]
  },
  {
   "cell_type": "code",
   "execution_count": 247,
   "metadata": {
    "colab": {
     "base_uri": "https://localhost:8080/",
     "height": 204
    },
    "colab_type": "code",
    "id": "guoV_aWPH5gl",
    "outputId": "bb6193e0-5504-4dd0-acb1-bd7be6e355c7"
   },
   "outputs": [
    {
     "name": "stdout",
     "output_type": "stream",
     "text": [
      "Epoch 1/5\n",
      "4178/4178 [==============================] - 34s 8ms/step - loss: 0.0015\n",
      "Epoch 2/5\n",
      "4178/4178 [==============================] - 26s 6ms/step - loss: 3.8163e-04\n",
      "Epoch 3/5\n",
      "4178/4178 [==============================] - 27s 6ms/step - loss: 2.4032e-04\n",
      "Epoch 4/5\n",
      "4178/4178 [==============================] - 26s 6ms/step - loss: 2.3448e-04\n",
      "Epoch 5/5\n",
      "4178/4178 [==============================] - 26s 6ms/step - loss: 3.0564e-04\n"
     ]
    },
    {
     "data": {
      "text/plain": [
       "<keras.callbacks.History at 0x1e9fa9587b8>"
      ]
     },
     "execution_count": 247,
     "metadata": {},
     "output_type": "execute_result"
    }
   ],
   "source": [
    "model.fit(x_train, y_train, batch_size=120, epochs=5)"
   ]
  },
  {
   "cell_type": "code",
   "execution_count": 263,
   "metadata": {
    "colab": {},
    "colab_type": "code",
    "id": "EBdGthFTH5go"
   },
   "outputs": [
    {
     "name": "stdout",
     "output_type": "stream",
     "text": [
      "Date\n",
      "2016-10-05     481.8\n",
      "2016-10-06       480\n",
      "2016-10-07       478\n",
      "2016-10-10     477.2\n",
      "2016-10-13       477\n",
      "2016-10-14     477.8\n",
      "2016-10-17    475.05\n",
      "2016-10-18     473.1\n",
      "2016-10-19       485\n",
      "2016-10-20     497.9\n",
      "2016-10-21    499.85\n",
      "2016-10-24       490\n",
      "2016-10-25       484\n",
      "2016-10-26    480.75\n",
      "2016-10-27     471.3\n",
      "2016-10-28     461.7\n",
      "2016-10-30    465.05\n",
      "2016-11-01    465.05\n",
      "2016-11-02     457.7\n",
      "2016-11-03       458\n",
      "2016-11-04    447.75\n",
      "2016-11-07       455\n",
      "2016-11-08       453\n",
      "2016-11-09       425\n",
      "2016-11-10    451.15\n",
      "2016-11-11     441.9\n",
      "2016-11-15     441.5\n",
      "2016-11-16       449\n",
      "2016-11-17     443.1\n",
      "2016-11-18    439.95\n",
      "               ...  \n",
      "2019-11-19     248.2\n",
      "2019-11-20    251.75\n",
      "2019-11-21     248.4\n",
      "2019-11-22     243.3\n",
      "2019-11-25    243.05\n",
      "2019-11-26     244.2\n",
      "2019-11-27       239\n",
      "2019-11-28    239.95\n",
      "2019-11-29    240.05\n",
      "2019-12-02    238.25\n",
      "2019-12-03     238.5\n",
      "2019-12-04     236.6\n",
      "2019-12-05     242.7\n",
      "2019-12-06     243.7\n",
      "2019-12-09     240.8\n",
      "2019-12-10     240.4\n",
      "2019-12-11    237.65\n",
      "2019-12-12    240.35\n",
      "2019-12-13       242\n",
      "2019-12-16     243.9\n",
      "2019-12-17    244.25\n",
      "2019-12-18    245.85\n",
      "2019-12-19     248.6\n",
      "2019-12-20       248\n",
      "2019-12-23     252.8\n",
      "2019-12-24       253\n",
      "2019-12-26       252\n",
      "2019-12-27       250\n",
      "2019-12-30    248.45\n",
      "2019-12-31     247.7\n",
      "Name: Open, Length: 799, dtype: object\n"
     ]
    },
    {
     "ename": "ValueError",
     "evalue": "Expected 2D array, got 1D array instead:\narray=[481.8  480.   478.   477.2  477.   477.8  475.05 473.1  485.   497.9\n 499.85 490.   484.   480.75 471.3  461.7  465.05 465.05 457.7  458.\n 447.75 455.   453.   425.   451.15 441.9  441.5  449.   443.1  439.95\n 437.5  442.   450.4  448.45 453.   468.   461.4  465.   469.7  470.5\n 460.   456.   458.4  455.   458.1  455.   456.5  464.15 460.6  466.3\n 462.75 466.9  468.5  462.6  464.65 458.4  455.   466.   469.   473.65\n 475.05 473.   467.   477.1  478.5  469.   472.6  477.9  476.   485.1\n 482.9  485.35 482.4  483.4  476.55 472.55 482.65 482.   469.5  464.\n 465.8  461.   456.   456.   458.65 462.   458.35 458.3  467.35 468.\n 477.15 476.55 473.   482.   475.   475.   475.1  474.5  480.   490.\n 488.   494.   490.8  491.3  493.5  494.65 493.   485.1  490.   505.7\n 497.3  504.   504.   493.1  493.5  503.   509.45 508.35 505.   508.45\n 510.75 512.2  516.45 506.   507.1  513.4  514.95 503.8  509.7  500.75\n 495.75 491.   497.5  498.   500.   487.4  493.5  503.   493.9  497.\n 496.15 498.1  497.15 499.7  500.   504.   507.4  502.85 505.65 510.\n 505.5  517.   506.95 527.   521.7  522.   527.7  525.65 534.   539.\n 530.   537.55 535.45 543.05 551.55 556.   560.2  549.9  544.05 535.6\n 260.   261.3  260.   260.1  256.   255.   254.25 256.   254.   255.5\n 258.   260.   256.8  260.   258.   260.   257.8  255.1  260.   266.2\n 263.7  263.9  264.15 266.4  267.3  270.   270.75 283.9  290.2  292.85\n 290.   290.   290.   290.   289.   294.   294.7  289.8  289.6  291.3\n 287.1  286.   288.   290.05 289.4  290.9  288.05 289.35 290.5  291.1\n 290.45 290.   290.8  291.45 295.   298.   296.95 297.4  297.   298.\n 300.   301.4  302.1  298.1  281.5  287.   283.5  289.3  288.85 290.6\n 290.65 293.2  291.   290.65 289.65 287.25 281.4  282.9  283.6  285.\n 285.95 286.8  286.95 291.   294.55 291.9  292.   289.6  294.8  292.7\n 296.45 297.3  297.8  299.4  296.3  293.25 296.   293.5  293.75 293.9\n 299.85 303.75 303.   302.55 300.3  299.8  298.5  298.   298.2  295.1\n 297.15 295.7  295.2  294.4  291.25 295.   295.   299.35 292.   286.95\n 288.6  283.3  283.55 282.7  284.2  290.5  288.4  288.4  288.6  287.\n 295.   294.85 295.8  298.   301.25 303.9  305.9  305.4  311.5  315.85\n 320.4  310.1  313.   310.   312.6  316.4  323.55 321.   318.85 316.9\n 333.   327.   327.   317.   322.1  316.5  315.7  314.1  309.55 306.1\n 305.05 299.3  298.   291.7  298.2  290.1  289.   287.9  290.   295.6\n 292.95 293.   290.   294.   292.9  295.5  294.8  292.45 293.   292.8\n 293.6  291.25 288.45 286.45 285.   286.3  292.5  295.   295.45 295.\n 293.55 286.9  294.5  293.8  284.05 284.6  278.95 274.   283.5  287.3\n 285.   283.   286.   284.7  280.6  288.   286.3  289.5  289.   288.1\n 288.2  293.   294.8  299.8  294.4  287.9  275.   276.4  276.15 279.\n 275.   272.5  270.   275.2  273.   270.9  271.5  271.4  272.8  270.9\n 275.   276.5  269.1  264.   265.55 264.1  265.   262.65 261.65 262.9\n 261.8  262.95 261.45 260.2  257.15 258.05 264.6  264.5  266.75 269.\n 267.15 268.75 269.   265.95 261.3  261.   258.75 257.9  257.5  259.1\n 256.4  259.   260.7  261.45 262.05 262.5  263.   263.3  266.   272.95\n 272.45 279.8  279.25 283.   286.   286.   287.5  282.5  278.2  275.\n 273.4  272.   273.8  273.5  276.   277.   280.45 279.   275.6  279.45\n 278.1  279.9  278.   285.   285.   279.4  280.8  284.85 290.   288.7\n 292.   296.75 296.55 297.5  300.   327.   310.45 314.55 320.   321.9\n 324.4  326.95 325.05 328.75 332.25 329.4  333.4  331.9  330.25 333.\n 328.2  321.9  319.   324.   329.35 325.1  324.8  321.4  317.   320.4\n 308.   316.15 317.35 320.   322.7  323.35 324.6  318.9  309.2  296.\n 318.8  319.   329.   328.2  332.95 329.   315.1  324.8  325.4  328.\n 324.75 323.5  325.   324.15 323.5  325.5  330.9  320.   315.   303.4\n 316.85 313.95 314.   315.05 325.   328.25 333.   333.25 332.8  328.3\n 325.4  329.8  331.   339.   335.95 335.25 335.05 336.25 333.2  322.7\n 325.7  327.8  326.2  331.   330.75 328.8  327.   324.5  326.1  325.\n 324.55 330.8  325.6  330.05 319.   331.8  337.   336.   340.   336.8\n 348.65 350.2  348.25 354.35 356.   359.   366.   370.1  370.   370.\n 369.15 372.   371.5  370.9  374.15 374.8  376.4  375.25 378.8  372.55\n 363.2  372.8  375.   380.8  384.5  380.25 374.9  370.9  374.   274.4\n 280.   261.1  259.   261.   262.5  259.35 258.   264.75 257.8  258.4\n 262.45 262.   257.1  255.2  255.9  257.1  256.   263.4  262.4  261.\n 261.   263.7  263.5  278.   283.5  282.4  285.   291.35 289.   285.5\n 289.7  292.05 293.05 296.4  295.   298.55 293.5  289.9  292.65 294.25\n 291.8  291.5  290.5  289.   285.5  283.85 286.5  289.5  290.6  287.\n 285.6  283.9  284.   281.   284.5  286.   288.15 288.5  294.   294.\n 292.5  295.75 297.   297.5  298.   298.75 300.   299.5  299.   284.05\n 287.   285.5  284.   285.15 287.35 283.8  281.6  282.45 284.9  283.\n 284.   267.75 267.5  264.7  267.5  268.   260.   259.   262.   261.\n 269.1  265.6  264.9  264.5  265.45 262.2  263.   262.9  262.5  271.5\n 269.9  261.15 262.   259.   263.   266.   264.9  259.8  250.   250.3\n 253.3  253.5  252.   252.95 252.4  248.7  250.1  247.05 250.1  254.1\n 251.5  258.9  255.35 251.4  254.   245.7  245.   245.1  246.95 245.4\n 245.25 241.9  247.7  240.9  240.5  239.2  237.4  237.   240.   234.2\n 238.   238.05 239.25 237.75 237.   239.8  244.95 245.9  248.9  247.85\n 249.   252.8  253.9  252.05 254.55 253.65 258.   254.   260.2  259.3\n 257.3  259.   257.   260.15 257.2  257.3  254.   254.   252.5  248.2\n 251.75 248.4  243.3  243.05 244.2  239.   239.95 240.05 238.25 238.5\n 236.6  242.7  243.7  240.8  240.4  237.65 240.35 242.   243.9  244.25\n 245.85 248.6  248.   252.8  253.   252.   250.   248.45 247.7 ].\nReshape your data either using array.reshape(-1, 1) if your data has a single feature or array.reshape(1, -1) if it contains a single sample.",
     "output_type": "error",
     "traceback": [
      "\u001b[1;31m---------------------------------------------------------------------------\u001b[0m",
      "\u001b[1;31mValueError\u001b[0m                                Traceback (most recent call last)",
      "\u001b[1;32m<ipython-input-263-1b9703b13881>\u001b[0m in \u001b[0;36m<module>\u001b[1;34m\u001b[0m\n\u001b[0;32m      1\u001b[0m \u001b[0minputs\u001b[0m \u001b[1;33m=\u001b[0m \u001b[0mnew_data\u001b[0m\u001b[1;33m[\u001b[0m\u001b[0mlen\u001b[0m\u001b[1;33m(\u001b[0m\u001b[0mnew_data\u001b[0m\u001b[1;33m)\u001b[0m \u001b[1;33m-\u001b[0m \u001b[0mlen\u001b[0m\u001b[1;33m(\u001b[0m\u001b[0mvalid\u001b[0m\u001b[1;33m)\u001b[0m \u001b[1;33m-\u001b[0m \u001b[1;36m60\u001b[0m\u001b[1;33m:\u001b[0m\u001b[1;33m]\u001b[0m\u001b[1;33m.\u001b[0m\u001b[0mOpen\u001b[0m\u001b[1;33m\u001b[0m\u001b[1;33m\u001b[0m\u001b[0m\n\u001b[0;32m      2\u001b[0m \u001b[0mprint\u001b[0m\u001b[1;33m(\u001b[0m\u001b[0minputs\u001b[0m\u001b[1;33m)\u001b[0m\u001b[1;33m\u001b[0m\u001b[1;33m\u001b[0m\u001b[0m\n\u001b[1;32m----> 3\u001b[1;33m \u001b[0minputs\u001b[0m  \u001b[1;33m=\u001b[0m \u001b[0mscaler\u001b[0m\u001b[1;33m.\u001b[0m\u001b[0mtransform\u001b[0m\u001b[1;33m(\u001b[0m\u001b[0minputs\u001b[0m\u001b[1;33m)\u001b[0m\u001b[1;33m\u001b[0m\u001b[1;33m\u001b[0m\u001b[0m\n\u001b[0m\u001b[0;32m      4\u001b[0m \u001b[0minputs\u001b[0m \u001b[1;33m=\u001b[0m \u001b[0minputs\u001b[0m\u001b[1;33m.\u001b[0m\u001b[0mreshape\u001b[0m\u001b[1;33m(\u001b[0m\u001b[1;33m-\u001b[0m\u001b[1;36m1\u001b[0m\u001b[1;33m,\u001b[0m\u001b[1;36m1\u001b[0m\u001b[1;33m)\u001b[0m\u001b[1;33m\u001b[0m\u001b[1;33m\u001b[0m\u001b[0m\n\u001b[0;32m      5\u001b[0m \u001b[0mX_test\u001b[0m \u001b[1;33m=\u001b[0m \u001b[1;33m[\u001b[0m\u001b[1;33m]\u001b[0m\u001b[1;33m\u001b[0m\u001b[1;33m\u001b[0m\u001b[0m\n",
      "\u001b[1;32mC:\\ProgramData\\Anaconda3\\lib\\site-packages\\sklearn\\preprocessing\\data.py\u001b[0m in \u001b[0;36mtransform\u001b[1;34m(self, X)\u001b[0m\n\u001b[0;32m    383\u001b[0m \u001b[1;33m\u001b[0m\u001b[0m\n\u001b[0;32m    384\u001b[0m         X = check_array(X, copy=self.copy, dtype=FLOAT_DTYPES,\n\u001b[1;32m--> 385\u001b[1;33m                         force_all_finite=\"allow-nan\")\n\u001b[0m\u001b[0;32m    386\u001b[0m \u001b[1;33m\u001b[0m\u001b[0m\n\u001b[0;32m    387\u001b[0m         \u001b[0mX\u001b[0m \u001b[1;33m*=\u001b[0m \u001b[0mself\u001b[0m\u001b[1;33m.\u001b[0m\u001b[0mscale_\u001b[0m\u001b[1;33m\u001b[0m\u001b[1;33m\u001b[0m\u001b[0m\n",
      "\u001b[1;32mC:\\ProgramData\\Anaconda3\\lib\\site-packages\\sklearn\\utils\\validation.py\u001b[0m in \u001b[0;36mcheck_array\u001b[1;34m(array, accept_sparse, accept_large_sparse, dtype, order, copy, force_all_finite, ensure_2d, allow_nd, ensure_min_samples, ensure_min_features, warn_on_dtype, estimator)\u001b[0m\n\u001b[0;32m    550\u001b[0m                     \u001b[1;34m\"Reshape your data either using array.reshape(-1, 1) if \"\u001b[0m\u001b[1;33m\u001b[0m\u001b[1;33m\u001b[0m\u001b[0m\n\u001b[0;32m    551\u001b[0m                     \u001b[1;34m\"your data has a single feature or array.reshape(1, -1) \"\u001b[0m\u001b[1;33m\u001b[0m\u001b[1;33m\u001b[0m\u001b[0m\n\u001b[1;32m--> 552\u001b[1;33m                     \"if it contains a single sample.\".format(array))\n\u001b[0m\u001b[0;32m    553\u001b[0m \u001b[1;33m\u001b[0m\u001b[0m\n\u001b[0;32m    554\u001b[0m         \u001b[1;31m# in the future np.flexible dtypes will be handled like object dtypes\u001b[0m\u001b[1;33m\u001b[0m\u001b[1;33m\u001b[0m\u001b[1;33m\u001b[0m\u001b[0m\n",
      "\u001b[1;31mValueError\u001b[0m: Expected 2D array, got 1D array instead:\narray=[481.8  480.   478.   477.2  477.   477.8  475.05 473.1  485.   497.9\n 499.85 490.   484.   480.75 471.3  461.7  465.05 465.05 457.7  458.\n 447.75 455.   453.   425.   451.15 441.9  441.5  449.   443.1  439.95\n 437.5  442.   450.4  448.45 453.   468.   461.4  465.   469.7  470.5\n 460.   456.   458.4  455.   458.1  455.   456.5  464.15 460.6  466.3\n 462.75 466.9  468.5  462.6  464.65 458.4  455.   466.   469.   473.65\n 475.05 473.   467.   477.1  478.5  469.   472.6  477.9  476.   485.1\n 482.9  485.35 482.4  483.4  476.55 472.55 482.65 482.   469.5  464.\n 465.8  461.   456.   456.   458.65 462.   458.35 458.3  467.35 468.\n 477.15 476.55 473.   482.   475.   475.   475.1  474.5  480.   490.\n 488.   494.   490.8  491.3  493.5  494.65 493.   485.1  490.   505.7\n 497.3  504.   504.   493.1  493.5  503.   509.45 508.35 505.   508.45\n 510.75 512.2  516.45 506.   507.1  513.4  514.95 503.8  509.7  500.75\n 495.75 491.   497.5  498.   500.   487.4  493.5  503.   493.9  497.\n 496.15 498.1  497.15 499.7  500.   504.   507.4  502.85 505.65 510.\n 505.5  517.   506.95 527.   521.7  522.   527.7  525.65 534.   539.\n 530.   537.55 535.45 543.05 551.55 556.   560.2  549.9  544.05 535.6\n 260.   261.3  260.   260.1  256.   255.   254.25 256.   254.   255.5\n 258.   260.   256.8  260.   258.   260.   257.8  255.1  260.   266.2\n 263.7  263.9  264.15 266.4  267.3  270.   270.75 283.9  290.2  292.85\n 290.   290.   290.   290.   289.   294.   294.7  289.8  289.6  291.3\n 287.1  286.   288.   290.05 289.4  290.9  288.05 289.35 290.5  291.1\n 290.45 290.   290.8  291.45 295.   298.   296.95 297.4  297.   298.\n 300.   301.4  302.1  298.1  281.5  287.   283.5  289.3  288.85 290.6\n 290.65 293.2  291.   290.65 289.65 287.25 281.4  282.9  283.6  285.\n 285.95 286.8  286.95 291.   294.55 291.9  292.   289.6  294.8  292.7\n 296.45 297.3  297.8  299.4  296.3  293.25 296.   293.5  293.75 293.9\n 299.85 303.75 303.   302.55 300.3  299.8  298.5  298.   298.2  295.1\n 297.15 295.7  295.2  294.4  291.25 295.   295.   299.35 292.   286.95\n 288.6  283.3  283.55 282.7  284.2  290.5  288.4  288.4  288.6  287.\n 295.   294.85 295.8  298.   301.25 303.9  305.9  305.4  311.5  315.85\n 320.4  310.1  313.   310.   312.6  316.4  323.55 321.   318.85 316.9\n 333.   327.   327.   317.   322.1  316.5  315.7  314.1  309.55 306.1\n 305.05 299.3  298.   291.7  298.2  290.1  289.   287.9  290.   295.6\n 292.95 293.   290.   294.   292.9  295.5  294.8  292.45 293.   292.8\n 293.6  291.25 288.45 286.45 285.   286.3  292.5  295.   295.45 295.\n 293.55 286.9  294.5  293.8  284.05 284.6  278.95 274.   283.5  287.3\n 285.   283.   286.   284.7  280.6  288.   286.3  289.5  289.   288.1\n 288.2  293.   294.8  299.8  294.4  287.9  275.   276.4  276.15 279.\n 275.   272.5  270.   275.2  273.   270.9  271.5  271.4  272.8  270.9\n 275.   276.5  269.1  264.   265.55 264.1  265.   262.65 261.65 262.9\n 261.8  262.95 261.45 260.2  257.15 258.05 264.6  264.5  266.75 269.\n 267.15 268.75 269.   265.95 261.3  261.   258.75 257.9  257.5  259.1\n 256.4  259.   260.7  261.45 262.05 262.5  263.   263.3  266.   272.95\n 272.45 279.8  279.25 283.   286.   286.   287.5  282.5  278.2  275.\n 273.4  272.   273.8  273.5  276.   277.   280.45 279.   275.6  279.45\n 278.1  279.9  278.   285.   285.   279.4  280.8  284.85 290.   288.7\n 292.   296.75 296.55 297.5  300.   327.   310.45 314.55 320.   321.9\n 324.4  326.95 325.05 328.75 332.25 329.4  333.4  331.9  330.25 333.\n 328.2  321.9  319.   324.   329.35 325.1  324.8  321.4  317.   320.4\n 308.   316.15 317.35 320.   322.7  323.35 324.6  318.9  309.2  296.\n 318.8  319.   329.   328.2  332.95 329.   315.1  324.8  325.4  328.\n 324.75 323.5  325.   324.15 323.5  325.5  330.9  320.   315.   303.4\n 316.85 313.95 314.   315.05 325.   328.25 333.   333.25 332.8  328.3\n 325.4  329.8  331.   339.   335.95 335.25 335.05 336.25 333.2  322.7\n 325.7  327.8  326.2  331.   330.75 328.8  327.   324.5  326.1  325.\n 324.55 330.8  325.6  330.05 319.   331.8  337.   336.   340.   336.8\n 348.65 350.2  348.25 354.35 356.   359.   366.   370.1  370.   370.\n 369.15 372.   371.5  370.9  374.15 374.8  376.4  375.25 378.8  372.55\n 363.2  372.8  375.   380.8  384.5  380.25 374.9  370.9  374.   274.4\n 280.   261.1  259.   261.   262.5  259.35 258.   264.75 257.8  258.4\n 262.45 262.   257.1  255.2  255.9  257.1  256.   263.4  262.4  261.\n 261.   263.7  263.5  278.   283.5  282.4  285.   291.35 289.   285.5\n 289.7  292.05 293.05 296.4  295.   298.55 293.5  289.9  292.65 294.25\n 291.8  291.5  290.5  289.   285.5  283.85 286.5  289.5  290.6  287.\n 285.6  283.9  284.   281.   284.5  286.   288.15 288.5  294.   294.\n 292.5  295.75 297.   297.5  298.   298.75 300.   299.5  299.   284.05\n 287.   285.5  284.   285.15 287.35 283.8  281.6  282.45 284.9  283.\n 284.   267.75 267.5  264.7  267.5  268.   260.   259.   262.   261.\n 269.1  265.6  264.9  264.5  265.45 262.2  263.   262.9  262.5  271.5\n 269.9  261.15 262.   259.   263.   266.   264.9  259.8  250.   250.3\n 253.3  253.5  252.   252.95 252.4  248.7  250.1  247.05 250.1  254.1\n 251.5  258.9  255.35 251.4  254.   245.7  245.   245.1  246.95 245.4\n 245.25 241.9  247.7  240.9  240.5  239.2  237.4  237.   240.   234.2\n 238.   238.05 239.25 237.75 237.   239.8  244.95 245.9  248.9  247.85\n 249.   252.8  253.9  252.05 254.55 253.65 258.   254.   260.2  259.3\n 257.3  259.   257.   260.15 257.2  257.3  254.   254.   252.5  248.2\n 251.75 248.4  243.3  243.05 244.2  239.   239.95 240.05 238.25 238.5\n 236.6  242.7  243.7  240.8  240.4  237.65 240.35 242.   243.9  244.25\n 245.85 248.6  248.   252.8  253.   252.   250.   248.45 247.7 ].\nReshape your data either using array.reshape(-1, 1) if your data has a single feature or array.reshape(1, -1) if it contains a single sample."
     ]
    }
   ],
   "source": [
    "inputs = new_data[len(new_data) - len(valid) - 60:].\n",
    "print(inputs)\n",
    "inputs  = scaler.transform(inputs)\n",
    "inputs = inputs.reshape(-1,1)\n",
    "X_test = []\n",
    "for i in range(60,inputs.shape[0]):\n",
    "    X_test.append(inputs[i-60:i])\n",
    "X_test = np.array(X_test)\n",
    "\n",
    "X_test = np.reshape(X_test, (X_test.shape[0],X_test.shape[1],1))"
   ]
  },
  {
   "cell_type": "code",
   "execution_count": 252,
   "metadata": {
    "colab": {},
    "colab_type": "code",
    "id": "r677BVlDM69v"
   },
   "outputs": [
    {
     "name": "stdout",
     "output_type": "stream",
     "text": [
      "3136\n"
     ]
    }
   ],
   "source": [
    "closing_price = model.predict(X_test)\n",
    "print(len(closing_price))\n",
    "closing_price.reshape(-1,4)\n",
    "#closing_price = scaler.inverse_transform(closing_price)\n",
    "closing_price=closing_price.reshape(-1,4)\n",
    "#print(closing_price)"
   ]
  },
  {
   "cell_type": "code",
   "execution_count": 187,
   "metadata": {
    "colab": {
     "base_uri": "https://localhost:8080/",
     "height": 34
    },
    "colab_type": "code",
    "id": "vcbA8kaPNH0l",
    "outputId": "5be90f8f-f68c-439e-b8b5-8757acfc1080"
   },
   "outputs": [
    {
     "name": "stdout",
     "output_type": "stream",
     "text": [
      "101.59921873803098\n"
     ]
    }
   ],
   "source": [
    "rms=np.sqrt(np.mean(np.power((valid-closing_price),2)))\n",
    "print(rms)"
   ]
  },
  {
   "cell_type": "code",
   "execution_count": 188,
   "metadata": {
    "colab": {
     "base_uri": "https://localhost:8080/",
     "height": 401
    },
    "colab_type": "code",
    "id": "64o4nPqVNPNZ",
    "outputId": "5b5aa5c5-8ded-4c89-835f-66350eff89ef"
   },
   "outputs": [
    {
     "ename": "ValueError",
     "evalue": "Length of values does not match length of index",
     "output_type": "error",
     "traceback": [
      "\u001b[1;31m---------------------------------------------------------------------------\u001b[0m",
      "\u001b[1;31mValueError\u001b[0m                                Traceback (most recent call last)",
      "\u001b[1;32m<ipython-input-188-03cbcc2d7bce>\u001b[0m in \u001b[0;36m<module>\u001b[1;34m\u001b[0m\n\u001b[0;32m      4\u001b[0m \u001b[0mvalid\u001b[0m \u001b[1;33m=\u001b[0m \u001b[0mnew_data\u001b[0m\u001b[1;33m[\u001b[0m\u001b[1;36m4238\u001b[0m\u001b[1;33m:\u001b[0m\u001b[1;33m]\u001b[0m\u001b[1;33m\u001b[0m\u001b[1;33m\u001b[0m\u001b[0m\n\u001b[0;32m      5\u001b[0m \u001b[1;33m\u001b[0m\u001b[0m\n\u001b[1;32m----> 6\u001b[1;33m \u001b[0mvalid\u001b[0m\u001b[1;33m[\u001b[0m\u001b[1;34m'Predictions'\u001b[0m\u001b[1;33m]\u001b[0m \u001b[1;33m=\u001b[0m \u001b[0mclosing_price\u001b[0m\u001b[1;33m\u001b[0m\u001b[1;33m\u001b[0m\u001b[0m\n\u001b[0m\u001b[0;32m      7\u001b[0m \u001b[0mplt\u001b[0m\u001b[1;33m.\u001b[0m\u001b[0mplot\u001b[0m\u001b[1;33m(\u001b[0m\u001b[0mtrain\u001b[0m\u001b[1;33m[\u001b[0m\u001b[1;34m'Close'\u001b[0m\u001b[1;33m]\u001b[0m\u001b[1;33m)\u001b[0m\u001b[1;33m\u001b[0m\u001b[1;33m\u001b[0m\u001b[0m\n\u001b[0;32m      8\u001b[0m \u001b[0mplt\u001b[0m\u001b[1;33m.\u001b[0m\u001b[0mplot\u001b[0m\u001b[1;33m(\u001b[0m\u001b[0mvalid\u001b[0m\u001b[1;33m[\u001b[0m\u001b[1;33m[\u001b[0m\u001b[1;34m'Close'\u001b[0m\u001b[1;33m,\u001b[0m\u001b[1;34m'Predictions'\u001b[0m\u001b[1;33m]\u001b[0m\u001b[1;33m]\u001b[0m\u001b[1;33m)\u001b[0m\u001b[1;33m\u001b[0m\u001b[1;33m\u001b[0m\u001b[0m\n",
      "\u001b[1;32mC:\\ProgramData\\Anaconda3\\lib\\site-packages\\pandas\\core\\frame.py\u001b[0m in \u001b[0;36m__setitem__\u001b[1;34m(self, key, value)\u001b[0m\n\u001b[0;32m   3117\u001b[0m         \u001b[1;32melse\u001b[0m\u001b[1;33m:\u001b[0m\u001b[1;33m\u001b[0m\u001b[1;33m\u001b[0m\u001b[0m\n\u001b[0;32m   3118\u001b[0m             \u001b[1;31m# set column\u001b[0m\u001b[1;33m\u001b[0m\u001b[1;33m\u001b[0m\u001b[1;33m\u001b[0m\u001b[0m\n\u001b[1;32m-> 3119\u001b[1;33m             \u001b[0mself\u001b[0m\u001b[1;33m.\u001b[0m\u001b[0m_set_item\u001b[0m\u001b[1;33m(\u001b[0m\u001b[0mkey\u001b[0m\u001b[1;33m,\u001b[0m \u001b[0mvalue\u001b[0m\u001b[1;33m)\u001b[0m\u001b[1;33m\u001b[0m\u001b[1;33m\u001b[0m\u001b[0m\n\u001b[0m\u001b[0;32m   3120\u001b[0m \u001b[1;33m\u001b[0m\u001b[0m\n\u001b[0;32m   3121\u001b[0m     \u001b[1;32mdef\u001b[0m \u001b[0m_setitem_slice\u001b[0m\u001b[1;33m(\u001b[0m\u001b[0mself\u001b[0m\u001b[1;33m,\u001b[0m \u001b[0mkey\u001b[0m\u001b[1;33m,\u001b[0m \u001b[0mvalue\u001b[0m\u001b[1;33m)\u001b[0m\u001b[1;33m:\u001b[0m\u001b[1;33m\u001b[0m\u001b[1;33m\u001b[0m\u001b[0m\n",
      "\u001b[1;32mC:\\ProgramData\\Anaconda3\\lib\\site-packages\\pandas\\core\\frame.py\u001b[0m in \u001b[0;36m_set_item\u001b[1;34m(self, key, value)\u001b[0m\n\u001b[0;32m   3192\u001b[0m \u001b[1;33m\u001b[0m\u001b[0m\n\u001b[0;32m   3193\u001b[0m         \u001b[0mself\u001b[0m\u001b[1;33m.\u001b[0m\u001b[0m_ensure_valid_index\u001b[0m\u001b[1;33m(\u001b[0m\u001b[0mvalue\u001b[0m\u001b[1;33m)\u001b[0m\u001b[1;33m\u001b[0m\u001b[1;33m\u001b[0m\u001b[0m\n\u001b[1;32m-> 3194\u001b[1;33m         \u001b[0mvalue\u001b[0m \u001b[1;33m=\u001b[0m \u001b[0mself\u001b[0m\u001b[1;33m.\u001b[0m\u001b[0m_sanitize_column\u001b[0m\u001b[1;33m(\u001b[0m\u001b[0mkey\u001b[0m\u001b[1;33m,\u001b[0m \u001b[0mvalue\u001b[0m\u001b[1;33m)\u001b[0m\u001b[1;33m\u001b[0m\u001b[1;33m\u001b[0m\u001b[0m\n\u001b[0m\u001b[0;32m   3195\u001b[0m         \u001b[0mNDFrame\u001b[0m\u001b[1;33m.\u001b[0m\u001b[0m_set_item\u001b[0m\u001b[1;33m(\u001b[0m\u001b[0mself\u001b[0m\u001b[1;33m,\u001b[0m \u001b[0mkey\u001b[0m\u001b[1;33m,\u001b[0m \u001b[0mvalue\u001b[0m\u001b[1;33m)\u001b[0m\u001b[1;33m\u001b[0m\u001b[1;33m\u001b[0m\u001b[0m\n\u001b[0;32m   3196\u001b[0m \u001b[1;33m\u001b[0m\u001b[0m\n",
      "\u001b[1;32mC:\\ProgramData\\Anaconda3\\lib\\site-packages\\pandas\\core\\frame.py\u001b[0m in \u001b[0;36m_sanitize_column\u001b[1;34m(self, key, value, broadcast)\u001b[0m\n\u001b[0;32m   3389\u001b[0m \u001b[1;33m\u001b[0m\u001b[0m\n\u001b[0;32m   3390\u001b[0m             \u001b[1;31m# turn me into an ndarray\u001b[0m\u001b[1;33m\u001b[0m\u001b[1;33m\u001b[0m\u001b[1;33m\u001b[0m\u001b[0m\n\u001b[1;32m-> 3391\u001b[1;33m             \u001b[0mvalue\u001b[0m \u001b[1;33m=\u001b[0m \u001b[0m_sanitize_index\u001b[0m\u001b[1;33m(\u001b[0m\u001b[0mvalue\u001b[0m\u001b[1;33m,\u001b[0m \u001b[0mself\u001b[0m\u001b[1;33m.\u001b[0m\u001b[0mindex\u001b[0m\u001b[1;33m,\u001b[0m \u001b[0mcopy\u001b[0m\u001b[1;33m=\u001b[0m\u001b[1;32mFalse\u001b[0m\u001b[1;33m)\u001b[0m\u001b[1;33m\u001b[0m\u001b[1;33m\u001b[0m\u001b[0m\n\u001b[0m\u001b[0;32m   3392\u001b[0m             \u001b[1;32mif\u001b[0m \u001b[1;32mnot\u001b[0m \u001b[0misinstance\u001b[0m\u001b[1;33m(\u001b[0m\u001b[0mvalue\u001b[0m\u001b[1;33m,\u001b[0m \u001b[1;33m(\u001b[0m\u001b[0mnp\u001b[0m\u001b[1;33m.\u001b[0m\u001b[0mndarray\u001b[0m\u001b[1;33m,\u001b[0m \u001b[0mIndex\u001b[0m\u001b[1;33m)\u001b[0m\u001b[1;33m)\u001b[0m\u001b[1;33m:\u001b[0m\u001b[1;33m\u001b[0m\u001b[1;33m\u001b[0m\u001b[0m\n\u001b[0;32m   3393\u001b[0m                 \u001b[1;32mif\u001b[0m \u001b[0misinstance\u001b[0m\u001b[1;33m(\u001b[0m\u001b[0mvalue\u001b[0m\u001b[1;33m,\u001b[0m \u001b[0mlist\u001b[0m\u001b[1;33m)\u001b[0m \u001b[1;32mand\u001b[0m \u001b[0mlen\u001b[0m\u001b[1;33m(\u001b[0m\u001b[0mvalue\u001b[0m\u001b[1;33m)\u001b[0m \u001b[1;33m>\u001b[0m \u001b[1;36m0\u001b[0m\u001b[1;33m:\u001b[0m\u001b[1;33m\u001b[0m\u001b[1;33m\u001b[0m\u001b[0m\n",
      "\u001b[1;32mC:\\ProgramData\\Anaconda3\\lib\\site-packages\\pandas\\core\\series.py\u001b[0m in \u001b[0;36m_sanitize_index\u001b[1;34m(data, index, copy)\u001b[0m\n\u001b[0;32m   3999\u001b[0m \u001b[1;33m\u001b[0m\u001b[0m\n\u001b[0;32m   4000\u001b[0m     \u001b[1;32mif\u001b[0m \u001b[0mlen\u001b[0m\u001b[1;33m(\u001b[0m\u001b[0mdata\u001b[0m\u001b[1;33m)\u001b[0m \u001b[1;33m!=\u001b[0m \u001b[0mlen\u001b[0m\u001b[1;33m(\u001b[0m\u001b[0mindex\u001b[0m\u001b[1;33m)\u001b[0m\u001b[1;33m:\u001b[0m\u001b[1;33m\u001b[0m\u001b[1;33m\u001b[0m\u001b[0m\n\u001b[1;32m-> 4001\u001b[1;33m         \u001b[1;32mraise\u001b[0m \u001b[0mValueError\u001b[0m\u001b[1;33m(\u001b[0m\u001b[1;34m'Length of values does not match length of '\u001b[0m \u001b[1;34m'index'\u001b[0m\u001b[1;33m)\u001b[0m\u001b[1;33m\u001b[0m\u001b[1;33m\u001b[0m\u001b[0m\n\u001b[0m\u001b[0;32m   4002\u001b[0m \u001b[1;33m\u001b[0m\u001b[0m\n\u001b[0;32m   4003\u001b[0m     \u001b[1;32mif\u001b[0m \u001b[0misinstance\u001b[0m\u001b[1;33m(\u001b[0m\u001b[0mdata\u001b[0m\u001b[1;33m,\u001b[0m \u001b[0mABCIndexClass\u001b[0m\u001b[1;33m)\u001b[0m \u001b[1;32mand\u001b[0m \u001b[1;32mnot\u001b[0m \u001b[0mcopy\u001b[0m\u001b[1;33m:\u001b[0m\u001b[1;33m\u001b[0m\u001b[1;33m\u001b[0m\u001b[0m\n",
      "\u001b[1;31mValueError\u001b[0m: Length of values does not match length of index"
     ]
    }
   ],
   "source": [
    "%matplotlib inline\n",
    "\n",
    "train = new_data[:4238]\n",
    "valid = new_data[4238:]\n",
    "\n",
    "valid['Predictions'] = closing_price\n",
    "plt.plot(train['Close'])\n",
    "plt.plot(valid[['Close','Predictions']])"
   ]
  },
  {
   "cell_type": "code",
   "execution_count": null,
   "metadata": {
    "colab": {},
    "colab_type": "code",
    "id": "vDiONjuONWW0"
   },
   "outputs": [],
   "source": [
    "from sklearn.metrics import r2_score\n",
    "\n",
    "coefficient_of_dermination = r2_score(y, p(x))"
   ]
  },
  {
   "cell_type": "code",
   "execution_count": null,
   "metadata": {},
   "outputs": [],
   "source": [
    "pred_fig = plt.figure(figsize=(10,6))\n",
    "ax2 = pred_fig.add_axes([0, 0, 1, 1])\n",
    "ax2.set_title('Actual vs Predicted close')\n",
    "ax2.plot(train['Close'], color='blue')\n",
    "ax2.plot(valid[['Close','Predictions']])\n",
    "\n",
    "plt.show()"
   ]
  }
 ],
 "metadata": {
  "colab": {
   "include_colab_link": true,
   "name": "Capstone_Project.ipynb",
   "provenance": []
  },
  "kernelspec": {
   "display_name": "Python 3",
   "language": "python",
   "name": "python3"
  },
  "language_info": {
   "codemirror_mode": {
    "name": "ipython",
    "version": 3
   },
   "file_extension": ".py",
   "mimetype": "text/x-python",
   "name": "python",
   "nbconvert_exporter": "python",
   "pygments_lexer": "ipython3",
   "version": "3.7.1"
  }
 },
 "nbformat": 4,
 "nbformat_minor": 1
}
